{
 "cells": [
  {
   "cell_type": "markdown",
   "metadata": {},
   "source": [
    "# Mute linear events and stack\n",
    "\n",
    "For this I'll combine two types of mutting, first a custom mute to remove linear events, and then a hyperbolic mute a little above the sea floor reflection."
   ]
  },
  {
   "cell_type": "code",
   "execution_count": null,
   "metadata": {},
   "outputs": [],
   "source": [
    "import numpy as np\n",
    "import pandas as pd\n",
    "import matplotlib.pyplot as plt\n",
    "import seaborn as sns\n",
    "\n",
    "import m8r as sf\n",
    "\n",
    "%matplotlib inline\n",
    "\n",
    "# Set a custom DATAPATH to Madagascar\n",
    "%env DATAPATH=/home/rodrigo/Projetos/Viking/DATAPATH/"
   ]
  },
  {
   "cell_type": "code",
   "execution_count": null,
   "metadata": {},
   "outputs": [],
   "source": [
    "sns.set_style('ticks')"
   ]
  },
  {
   "cell_type": "markdown",
   "metadata": {},
   "source": [
    "## Use a simple tappered mute on t-x domain (common shot domain)"
   ]
  },
  {
   "cell_type": "code",
   "execution_count": null,
   "metadata": {},
   "outputs": [],
   "source": [
    "from scipy.interpolate import interp1d"
   ]
  },
  {
   "cell_type": "code",
   "execution_count": null,
   "metadata": {},
   "outputs": [],
   "source": [
    "# Read manual picks (to remove linear events w/o killing shallow reflections)\n",
    "\n",
    "# Since the sea floor has a constant depth, just one mute function ought to be enough.\n",
    "\n",
    "picks = pd.read_csv('mute_picks.csv')\n",
    "\n",
    "# Now, I just need to interpolate and repeat for all shots\n",
    "\n",
    "x = np.arange(120)\n",
    "\n",
    "picks = interp1d(picks.CHANNEL, picks.TWT)\n",
    "picks = picks(x)"
   ]
  },
  {
   "cell_type": "markdown",
   "metadata": {},
   "source": [
    "Now lets plot the mute on a custom shot."
   ]
  },
  {
   "cell_type": "code",
   "execution_count": null,
   "metadata": {},
   "outputs": [],
   "source": [
    "rec_deghost = 'receiver_deghost.rsf'\n",
    "tp=0.05 # mute tapper duration (s)\n",
    "t0=.187 # hyperbolic mute start time\n",
    "v0=1.5 # hyperbolic mute duration\n",
    "\n",
    "img = sf.Input(rec_deghost)\n",
    "d1 = img.float('d1')\n",
    "\n",
    "# Grab well 5 shotpoint\n",
    "img = np.array(sf.window(n3=1, max1=3.5, f3=713).byte(pclip=99, gainpanel='each')[img]).T\n",
    "x = np.arange(img.shape[1])*-0.025 - 0.262\n",
    "extent = [x[-1], x[0], d1*img.shape[0], 0]\n",
    "\n",
    "plt.figure(figsize=(5,6))\n",
    "plt.imshow(img, aspect='auto', extent=extent, cmap='gray_r')\n",
    "\n",
    "# Plot the custom mute\n",
    "plt.plot(x[::-1], picks, 'k', ls='--')\n",
    "plt.plot(x[::-1], picks+tp, 'k', ls='--')\n",
    "\n",
    "# water bottom reflection hyperbolic mute\n",
    "y = 2* np.sqrt(x**2/(4*v0**2) + t0**2)\n",
    "plt.plot(x, y, 'r', ls='--')\n",
    "plt.plot(x, y + tp, 'r', ls='--')\n",
    "\n",
    "plt.title('Shotpoint 822 mute windows w/ tapper lenght')\n",
    "\n",
    "plt.axis('tight')\n",
    "sns.despine()\n",
    "plt.tight_layout()"
   ]
  },
  {
   "cell_type": "code",
   "execution_count": null,
   "metadata": {},
   "outputs": [],
   "source": [
    "out = sf.Output('mute_picks.rsf')\n",
    "out.put('n1', picks.size)\n",
    "out.write(picks.astype(np.float))\n",
    "out.close()"
   ]
  },
  {
   "cell_type": "code",
   "execution_count": null,
   "metadata": {},
   "outputs": [],
   "source": [
    "picks = 'mute_picks.rsf'\n",
    "custom_mute = 'custom_mute.rsf'\n",
    "\n",
    "!sfspray n=1001 < {picks} > {custom_mute}"
   ]
  },
  {
   "cell_type": "code",
   "execution_count": null,
   "metadata": {},
   "outputs": [],
   "source": [
    "mutted_shots = 'mutted_shots.rsf'\n",
    "\n",
    "# Hackysh tip: Using v0=2 makes it possible to mute custom times\n",
    "# by inputting the desired times as offsets at sfmutter\n",
    "\n",
    "!sfpow tpow=2 < {rec_deghost} | sfput o2=-3.237 d2=0.025 |\\\n",
    "    sfmutter v0=2 offset={custom_mute} tp=0.05 |\\\n",
    "    sfmutter hyper=y half=n t0=.187 tp=0.05 v0=1.5 > {mutted_shots}"
   ]
  },
  {
   "cell_type": "code",
   "execution_count": null,
   "metadata": {},
   "outputs": [],
   "source": [
    "mutted_cdps = 'line_cdp_mutted.rsf'\n",
    "header_int = 'line_12_header_int.rsf'\n",
    "\n",
    "!sfintbin < {mutted_shots} head={header_int} yk=cdp xk=cdpt > {mutted_cdps}"
   ]
  },
  {
   "cell_type": "code",
   "execution_count": null,
   "metadata": {},
   "outputs": [],
   "source": [
    "mask = 'line_cdp_mask.rsf'\n",
    "offsets = 'line_cdp_offset.rsf'\n",
    "mutted_stack = 'mutted_brute_stack.rsf'\n",
    "vstk = 'first_stacking_velocity.rsf'\n",
    "mutted_nmo_cdps = 'mutted_cdps.rsf'\n",
    "\n",
    "\n",
    "!sfpow tpow=2 < {mutted_cdps} | \\\n",
    "    sfnmo velocity={vstk} offset={offsets} mask={mask} half=n > {mutted_nmo_cdps}"
   ]
  },
  {
   "cell_type": "code",
   "execution_count": null,
   "metadata": {},
   "outputs": [],
   "source": [
    "!sfstack < {mutted_nmo_cdps} > {mutted_stack}"
   ]
  },
  {
   "cell_type": "code",
   "execution_count": null,
   "metadata": {},
   "outputs": [],
   "source": [
    "from matplotlib_scalebar.scalebar import ScaleBar"
   ]
  },
  {
   "cell_type": "code",
   "execution_count": null,
   "metadata": {},
   "outputs": [],
   "source": [
    "img = sf.Input(mutted_stack)\n",
    "\n",
    "n1 = img.int('n1')\n",
    "n2 = img.int('n2')\n",
    "d1 = img.float('d1')\n",
    "o1 = img.float('o1')\n",
    "d2 = img.float('d2')\n",
    "o2 = img.float('o2')\n",
    "\n",
    "data = np.zeros((n2, n1), dtype=np.float32)\n",
    "img.read(data)"
   ]
  },
  {
   "cell_type": "code",
   "execution_count": null,
   "metadata": {},
   "outputs": [],
   "source": [
    "perc = np.percentile(data.ravel(), 95)\n",
    "t = np.arange(n1) * d1 + o1\n",
    "extent = [0, n2, t[-1], o1]\n",
    "plt.figure(figsize=(8, 5))\n",
    "img = plt.imshow(data.clip(-perc, perc).T, aspect='auto',\n",
    "                 extent=extent, cmap='gray_r')\n",
    "\n",
    "\n",
    "scalebar = ScaleBar(12.5, location='lower left') # 1 pixel = 25 meter\n",
    "plt.gca().add_artist(scalebar)\n",
    "\n",
    "plt.ylabel('t (s)')\n",
    "plt.xlabel('sequential shotpoint')\n",
    "\n",
    "plt.ylim(3,0)\n",
    "\n",
    "plt.title('Brute stack w/ single velocity function, deghosting, early mute')\n",
    "\n",
    "sns.despine()\n",
    "plt.colorbar(img, shrink=0.7, label='Amplitude')\n",
    "\n",
    "plt.tight_layout()"
   ]
  }
 ],
 "metadata": {
  "kernelspec": {
   "display_name": "Python 3",
   "language": "python",
   "name": "python3"
  },
  "language_info": {
   "codemirror_mode": {
    "name": "ipython",
    "version": 3
   },
   "file_extension": ".py",
   "mimetype": "text/x-python",
   "name": "python",
   "nbconvert_exporter": "python",
   "pygments_lexer": "ipython3",
   "version": "3.8.1"
  }
 },
 "nbformat": 4,
 "nbformat_minor": 2
}
