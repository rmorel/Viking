{
 "cells": [
  {
   "cell_type": "markdown",
   "metadata": {},
   "source": [
    "# Fetch data from remote servers\n",
    "\n",
    "This script fetchs the relevant data from remote servers. You should run this just once."
   ]
  },
  {
   "cell_type": "code",
   "execution_count": 5,
   "metadata": {
    "collapsed": true
   },
   "outputs": [],
   "source": [
    "# Server web address\n",
    "path =  'http://s3.amazonaws.com/open.source.geoscience/open_data/Mobil_Avo_Viking_Graben_Line_12/'"
   ]
  },
  {
   "cell_type": "code",
   "execution_count": 6,
   "metadata": {
    "collapsed": false
   },
   "outputs": [
    {
     "name": "stdout",
     "output_type": "stream",
     "text": [
      "--2019-01-03 11:42:28--  http://s3.amazonaws.com/open.source.geoscience/open_data/Mobil_Avo_Viking_Graben_Line_12/README.txt\n",
      "Resolvendo s3.amazonaws.com (s3.amazonaws.com)... 52.216.136.133\n",
      "Conectando-se a s3.amazonaws.com (s3.amazonaws.com)|52.216.136.133|:80... conectado.\n",
      "A requisição HTTP foi enviada, aguardando resposta... 200 OK\n",
      "Tamanho: 87 [text/plain]\n",
      "Salvando em: “README.txt”\n",
      "\n",
      "README.txt          100%[===================>]      87  --.-KB/s    in 0s      \n",
      "\n",
      "2019-01-03 11:42:32 (4,66 MB/s) - “README.txt” salvo [87/87]\n",
      "\n"
     ]
    }
   ],
   "source": [
    "# I'm using wget with python variables for the file names\n",
    "!wget {path + 'README.txt'}"
   ]
  },
  {
   "cell_type": "code",
   "execution_count": 7,
   "metadata": {
    "collapsed": false
   },
   "outputs": [
    {
     "name": "stdout",
     "output_type": "stream",
     "text": [
      "The Mobil AVO, Viking Graben Line 12 \r\n",
      "\r\n",
      "Keys and Foster report  SEG open file report #4\r\n"
     ]
    }
   ],
   "source": [
    "!cat README.txt"
   ]
  },
  {
   "cell_type": "markdown",
   "metadata": {},
   "source": [
    "## Fetch the text and jpg files"
   ]
  },
  {
   "cell_type": "code",
   "execution_count": 8,
   "metadata": {
    "collapsed": false
   },
   "outputs": [
    {
     "name": "stdout",
     "output_type": "stream",
     "text": [
      "--2019-01-03 11:43:29--  http://s3.amazonaws.com/open.source.geoscience/open_data/Mobil_Avo_Viking_Graben_Line_12/Mobil_migration_well_logs.pdf\n",
      "Resolvendo s3.amazonaws.com (s3.amazonaws.com)... 52.216.82.115\n",
      "Conectando-se a s3.amazonaws.com (s3.amazonaws.com)|52.216.82.115|:80... conectado.\n",
      "A requisição HTTP foi enviada, aguardando resposta... 200 OK\n",
      "Tamanho: 1830977 (1,7M) [application/pdf]\n",
      "Salvando em: “Mobil_migration_well_logs.pdf.1”\n",
      "\n",
      "Mobil_migration_wel 100%[===================>]   1,75M   108KB/s    in 19s     \n",
      "\n",
      "2019-01-03 11:43:49 (92,8 KB/s) - “Mobil_migration_well_logs.pdf.1” salvo [1830977/1830977]\n",
      "\n",
      "--2019-01-03 11:43:49--  http://s3.amazonaws.com/open.source.geoscience/open_data/Mobil_Avo_Viking_Graben_Line_12/FarField.jpg\n",
      "Resolvendo s3.amazonaws.com (s3.amazonaws.com)... 52.216.98.117\n",
      "Conectando-se a s3.amazonaws.com (s3.amazonaws.com)|52.216.98.117|:80... conectado.\n",
      "A requisição HTTP foi enviada, aguardando resposta... 200 OK\n",
      "Tamanho: 12956 (13K) [image/jpeg]\n",
      "Salvando em: “FarField.jpg.1”\n",
      "\n",
      "FarField.jpg.1      100%[===================>]  12,65K  --.-KB/s    in 0,02s   \n",
      "\n",
      "2019-01-03 11:43:50 (654 KB/s) - “FarField.jpg.1” salvo [12956/12956]\n",
      "\n",
      "--2019-01-03 11:43:50--  http://s3.amazonaws.com/open.source.geoscience/open_data/Mobil_Avo_Viking_Graben_Line_12/FarField.dat\n",
      "Resolvendo s3.amazonaws.com (s3.amazonaws.com)... 52.216.134.37\n",
      "Conectando-se a s3.amazonaws.com (s3.amazonaws.com)|52.216.134.37|:80... conectado.\n",
      "A requisição HTTP foi enviada, aguardando resposta... 200 OK\n",
      "Tamanho: 8500 (8,3K) [application/octet-stream]\n",
      "Salvando em: “FarField.dat”\n",
      "\n",
      "FarField.dat        100%[===================>]   8,30K  --.-KB/s    in 0,001s  \n",
      "\n",
      "2019-01-03 11:43:51 (13,5 MB/s) - “FarField.dat” salvo [8500/8500]\n",
      "\n"
     ]
    }
   ],
   "source": [
    "files = [\n",
    "    'Mobil_migration_well_logs.pdf',\n",
    "    'FarField.jpg',\n",
    "    'FarField.dat'\n",
    "]\n",
    "\n",
    "for filename in files:\n",
    "    !wget {path + filename}"
   ]
  },
  {
   "cell_type": "markdown",
   "metadata": {},
   "source": [
    "## View reports and files"
   ]
  },
  {
   "cell_type": "markdown",
   "metadata": {},
   "source": [
    "### Well logs, interval velocity and migrated data"
   ]
  },
  {
   "cell_type": "code",
   "execution_count": 9,
   "metadata": {
    "collapsed": false
   },
   "outputs": [
    {
     "data": {
      "text/html": [
       "\n",
       "        <iframe\n",
       "            width=\"600\"\n",
       "            height=\"300\"\n",
       "            src=\"Mobil_migration_well_logs.pdf\"\n",
       "            frameborder=\"0\"\n",
       "            allowfullscreen\n",
       "        ></iframe>\n",
       "        "
      ],
      "text/plain": [
       "<IPython.lib.display.IFrame at 0x7fad68350610>"
      ]
     },
     "execution_count": 9,
     "metadata": {},
     "output_type": "execute_result"
    }
   ],
   "source": [
    "from IPython.display import IFrame\n",
    "IFrame('Mobil_migration_well_logs.pdf', width=600, height=300)"
   ]
  },
  {
   "cell_type": "code",
   "execution_count": 1,
   "metadata": {
    "collapsed": true
   },
   "outputs": [],
   "source": [
    "import numpy as np\n",
    "import matplotlib.pyplot as plt\n",
    "import seaborn as sns\n",
    "\n",
    "%matplotlib inline"
   ]
  },
  {
   "cell_type": "code",
   "execution_count": 2,
   "metadata": {
    "collapsed": true
   },
   "outputs": [],
   "source": [
    "sns.set_style('ticks')"
   ]
  },
  {
   "cell_type": "markdown",
   "metadata": {},
   "source": [
    "### Far field wavelet\n",
    "\n",
    "<img src='FarField.jpg' />\n",
    "\n",
    "Far field wavelet (FarField.jpg)"
   ]
  },
  {
   "cell_type": "code",
   "execution_count": 3,
   "metadata": {
    "collapsed": false
   },
   "outputs": [
    {
     "data": {
      "image/png": "[encoded data removed]",
      "text/plain": [
       "<matplotlib.figure.Figure at 0x7fc024599790>"
      ]
     },
     "metadata": {},
     "output_type": "display_data"
    }
   ],
   "source": [
    "wavelet = np.loadtxt('FarField.dat')\n",
    "t = np.arange(wavelet.shape[0]) * 0.001\n",
    "plt.plot(t, wavelet)\n",
    "plt.xlabel('t (s)')\n",
    "plt.title('Far field wavelet')\n",
    "\n",
    "sns.despine(offset=5)"
   ]
  },
  {
   "cell_type": "markdown",
   "metadata": {},
   "source": [
    "## Fetch pre-stack seismic data"
   ]
  },
  {
   "cell_type": "code",
   "execution_count": 4,
   "metadata": {
    "collapsed": true
   },
   "outputs": [],
   "source": [
    "raw_data = 'seismic.segy'"
   ]
  },
  {
   "cell_type": "code",
   "execution_count": 24,
   "metadata": {
    "collapsed": false
   },
   "outputs": [
    {
     "name": "stdout",
     "output_type": "stream",
     "text": [
      "http://s3.amazonaws.com/open.source.geoscience/open_data/Mobil_Avo_Viking_Graben_Line_12/seismic.segy\r\n"
     ]
    }
   ],
   "source": [
    "# Warning, this may take a while. It's best if you donwload it\n",
    "# from your web browser. Maybe that way you can resume the donwload\n",
    "# if some problem occour.\n",
    "\n",
    "#!wget {path + raw_data}"
   ]
  },
  {
   "cell_type": "code",
   "execution_count": 6,
   "metadata": {
    "collapsed": false
   },
   "outputs": [
    {
     "name": "stdout",
     "output_type": "stream",
     "text": [
      "65ae367c5b69f3f2b95a6b430ef56117  seismic.segy\r\n"
     ]
    }
   ],
   "source": [
    "# MD5 checksum must be equal to 65ae367c5b69f3f2b95a6b430ef56117\n",
    "!md5sum {raw_data}"
   ]
  }
 ],
 "metadata": {
  "kernelspec": {
   "display_name": "Python 2",
   "language": "python",
   "name": "python2"
  },
  "language_info": {
   "codemirror_mode": {
    "name": "ipython",
    "version": 2
   },
   "file_extension": ".py",
   "mimetype": "text/x-python",
   "name": "python",
   "nbconvert_exporter": "python",
   "pygments_lexer": "ipython2",
   "version": "2.7.12"
  }
 },
 "nbformat": 4,
 "nbformat_minor": 2
}
