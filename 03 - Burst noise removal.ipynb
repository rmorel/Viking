{
 "cells": [
  {
   "cell_type": "markdown",
   "metadata": {},
   "source": [
    "# Burst noise removal\n",
    "\n",
    "In my opinion, before trying to do anything else, we should deal with burst noise first (if present). Burst noise is impulsive in nature and gets in the way of frequency filtering, deconvolution and even migration."
   ]
  },
  {
   "cell_type": "code",
   "execution_count": null,
   "metadata": {},
   "outputs": [],
   "source": [
    "import numpy as np\n",
    "import pandas as pd\n",
    "import matplotlib.pyplot as plt\n",
    "import seaborn as sns\n",
    "\n",
    "import rsf.api as sf\n",
    "\n",
    "%matplotlib inline\n",
    "\n",
    "# Set a custom DATAPATH to Madagascar\n",
    "%env DATAPATH=/home/rodrigo/Projetos/Viking/DATAPATH/"
   ]
  },
  {
   "cell_type": "code",
   "execution_count": null,
   "metadata": {},
   "outputs": [],
   "source": [
    "sns.set_style('ticks')"
   ]
  },
  {
   "cell_type": "markdown",
   "metadata": {},
   "source": [
    "## Input files"
   ]
  },
  {
   "cell_type": "code",
   "execution_count": null,
   "metadata": {},
   "outputs": [],
   "source": [
    "raw_data = 'seismic.segy'\n",
    "common_shot = 'line_12_csg_raw.rsf'\n",
    "mask = 'line_cdp_mask.rsf'\n",
    "raw_cdp = 'line_raw_cdp.rsf'\n",
    "offsets = 'line_cdp_offset.rsf'\n",
    "stack = 'line_cvs_1500.rsf'\n",
    "header_int = 'line_12_header_int.rsf'\n",
    "header_complete = 'line_12_header_complete.rsf'"
   ]
  },
  {
   "cell_type": "code",
   "execution_count": null,
   "metadata": {},
   "outputs": [],
   "source": [
    "n2 = 120120 # Total number of traces\n",
    "n3 = n2/120"
   ]
  },
  {
   "cell_type": "markdown",
   "metadata": {},
   "source": [
    "## Processing steps\n",
    "\n",
    " - Calculate the RMS amplitude of every trace in common shot\n",
    " - See this pannel as an image. Identify possible bad spots.\n",
    " - If necessary, sort data to common receiver and analyse\n",
    " \n",
    "These steps should result in a good QC image to spot bad receivers and bad spots. Usually burst noise is related to the recording equipament and sensors."
   ]
  },
  {
   "cell_type": "code",
   "execution_count": null,
   "metadata": {},
   "outputs": [],
   "source": [
    "burst_map = 'line_12_burst_noise_map.rsf'\n",
    "\n",
    "!sfput n2=120 n3={n3} < {common_shot} |\\\n",
    "    sfstack axis=1 rms=y > {burst_map}"
   ]
  },
  {
   "cell_type": "code",
   "execution_count": null,
   "metadata": {},
   "outputs": [],
   "source": [
    "burst_map = sf.Input(burst_map)\n",
    "\n",
    "n1 = burst_map.int('n1')\n",
    "n2 = burst_map.int('n2')\n",
    "d1 = burst_map.float('d1')\n",
    "o1 = burst_map.float('o1')"
   ]
  },
  {
   "cell_type": "code",
   "execution_count": null,
   "metadata": {},
   "outputs": [],
   "source": [
    "data = np.zeros((n2, n1), dtype=np.float32)\n",
    "burst_map.read(data)"
   ]
  },
  {
   "cell_type": "code",
   "execution_count": null,
   "metadata": {},
   "outputs": [],
   "source": [
    "perc = np.percentile(data.ravel(), 99)\n",
    "\n",
    "extent = [1, 1+n3, 120, 1]\n",
    "img = plt.imshow(data.clip(-perc, perc).T, aspect='auto',\n",
    "                 cmap='cubehelix', extent=extent,\n",
    "                interpolation='none')\n",
    "\n",
    "\n",
    "\n",
    "plt.xlabel('sequential shotpoint')\n",
    "plt.ylabel('channel')\n",
    "\n",
    "plt.title('Common shot burst noise map')\n",
    "\n",
    "sns.despine()\n",
    "plt.colorbar(img, shrink=0.7, label='RMS amplitude')\n",
    "\n",
    "plt.tight_layout()"
   ]
  },
  {
   "cell_type": "markdown",
   "metadata": {},
   "source": [
    "## Important remarks\n",
    "\n",
    "When analysing images where you are interested in high amplitude spots (semblance panels, FK panels, etc) its always good to use a well calibrated [sequential colormap](https://matplotlib.org/users/colormaps.html). The [cubehelix](http://www.mrao.cam.ac.uk/~dag/CUBEHELIX/) colormap is a excelent choice in my opinion. Also, if you are interested in individual pixel values, take care to disable pixel interpolation, as I did in this example (interpolation = 'none' parameter on imshow).\n",
    "\n",
    "The figure above shows many important informations:\n",
    "\n",
    "   - There is no really offensive burst noises on the line.\n",
    "   - This is somewhat expected for good quality marine data, burst noise is usually a major issue on land data.\n",
    "   - All shots have well balanced energy, but there is more energy on the lower left part of the image. This may be due to surface waves on the first shots of the line.\n",
    "   - There is differences in receiver efficiency, as denoted by the horizontal lines on the picture.\n",
    "\n",
    "There are methods to remove the source and receiver influence and keep only the geological respose, but its better to do that a little further down the processing flow."
   ]
  }
 ],
 "metadata": {
  "kernelspec": {
   "display_name": "Python 3",
   "language": "python",
   "name": "python3"
  },
  "language_info": {
   "codemirror_mode": {
    "name": "ipython",
    "version": 3
   },
   "file_extension": ".py",
   "mimetype": "text/x-python",
   "name": "python",
   "nbconvert_exporter": "python",
   "pygments_lexer": "ipython3",
   "version": "3.8.1"
  }
 },
 "nbformat": 4,
 "nbformat_minor": 2
}
