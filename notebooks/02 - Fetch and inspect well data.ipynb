{
 "cells": [
  {
   "cell_type": "markdown",
   "metadata": {},
   "source": [
    "# Fetch and inspect well data"
   ]
  },
  {
   "cell_type": "code",
   "execution_count": null,
   "metadata": {},
   "outputs": [],
   "source": [
    "import os\n",
    "\n",
    "# Set datapath properly\n",
    "path = os.path.abspath('../data/interim/DATAPATH')\n",
    "path = path + os.path.sep\n",
    "path"
   ]
  },
  {
   "cell_type": "code",
   "execution_count": null,
   "metadata": {},
   "outputs": [],
   "source": [
    "import pandas as pd\n",
    "import matplotlib.pyplot as plt\n",
    "import seaborn as sns\n",
    "\n",
    "%matplotlib inline\n",
    "\n",
    "import numpy as np\n",
    "\n",
    "import rsf.api as sf\n",
    "\n",
    "# Set a custom DATAPATH to Madagascar\n",
    "%env DATAPATH={path}"
   ]
  },
  {
   "cell_type": "code",
   "execution_count": null,
   "metadata": {},
   "outputs": [],
   "source": [
    "sns.set_style('ticks')"
   ]
  },
  {
   "cell_type": "markdown",
   "metadata": {},
   "source": [
    "## Well metadata table\n",
    "\n",
    "| Original name | Alias | Keyword | Value |\n",
    "|---------------|-------|---------|-------|\n",
    "| Well 4 | Well A | Kelly bushing | 17.5 m |\n",
    "| Well 4 | Well A | Water depth | 355 m |\n",
    "| Well 4 | Well A | Shotpoint | 440 |\n",
    "| Well 4 | Well A | CDP | 808 |\n",
    "| Well 5 | Well B | Kelly bushing | 26.5 m |\n",
    "| Well 5 | Well B | Water depth | 355.5 m |\n",
    "| Well 5 | Well B | Shotpoint | 822 |\n",
    "| Well 5 | Well B | CDP | 1572|\n",
    "| Well 7 | Well C | Kelly bushing | 17.5 m |\n",
    "| Well 7 | Well C | Shotpoint | 310 |\n",
    "| Well 7 | Well C | CDP | 548 |"
   ]
  },
  {
   "cell_type": "code",
   "execution_count": null,
   "metadata": {},
   "outputs": [],
   "source": [
    "metadata = {\n",
    "    'Well 4' : {\n",
    "        'ALIAS' : 'Well A',\n",
    "        'KB' : 17.5,\n",
    "        'WD' : 355,\n",
    "        'EP' : 440,\n",
    "        'CDP' : 808\n",
    "    },\n",
    "    \n",
    "    'Well 5' : {\n",
    "        'ALIAS' : 'Well B',\n",
    "        'KB' : 26.5,\n",
    "        'WD' : 355.5,\n",
    "        'EP' : 822,\n",
    "        'CDP' : 1572\n",
    "    },\n",
    "    \n",
    "    'Well 7' : {\n",
    "        'ALIAS' : 'Well C',\n",
    "        'KB' : 17.5, # not 100% sure about this\n",
    "        'EP' : 310,\n",
    "        'CDP' : 548\n",
    "    }\n",
    "}"
   ]
  },
  {
   "cell_type": "code",
   "execution_count": null,
   "metadata": {},
   "outputs": [],
   "source": [
    "# Fetching the data from the web\n",
    "!wget http://s3.amazonaws.com/open.source.geoscience/open_data/Mobil_Avo_Viking_Graben_Line_12/mobil_wellogs.tar.gz"
   ]
  },
  {
   "cell_type": "code",
   "execution_count": null,
   "metadata": {},
   "outputs": [],
   "source": [
    "# Now let's check the data integrity\n",
    "# The MD5 checksum should be equal to 5cfbbabef17d96ea5bc0ef791ad62afb\n",
    "\n",
    "!md5sum mobil_wellogs.tar.gz"
   ]
  },
  {
   "cell_type": "code",
   "execution_count": null,
   "metadata": {},
   "outputs": [],
   "source": [
    "# Now, lets extract the data\n",
    "!tar xvzf mobil_wellogs.tar.gz"
   ]
  },
  {
   "cell_type": "markdown",
   "metadata": {},
   "source": [
    "# Analysing Well 4"
   ]
  },
  {
   "cell_type": "code",
   "execution_count": null,
   "metadata": {
    "scrolled": true
   },
   "outputs": [],
   "source": [
    "# First, lets inspect the .blk file\n",
    "!head well4.blk | cat -n"
   ]
  },
  {
   "cell_type": "code",
   "execution_count": null,
   "metadata": {
    "scrolled": true
   },
   "outputs": [],
   "source": [
    "# Now the .elan file\n",
    "!head -15 well4.elan | cat -n"
   ]
  },
  {
   "cell_type": "code",
   "execution_count": null,
   "metadata": {
    "scrolled": true
   },
   "outputs": [],
   "source": [
    "# Now the .log\n",
    "!head -15 well4.log | cat -n"
   ]
  },
  {
   "cell_type": "code",
   "execution_count": null,
   "metadata": {
    "scrolled": true
   },
   "outputs": [],
   "source": [
    "# Finaly the .Q file\n",
    "!head well4.Q | cat -n"
   ]
  },
  {
   "cell_type": "markdown",
   "metadata": {},
   "source": [
    "All well files are logs indexed by measured depth, no information on kelly bushing or any other datum elevation. It's easy enough to read these files using pandas, but we may need to resample if we want to write all logs to a single LAS file. Also, all log units are on S.I., just as God intended it."
   ]
  },
  {
   "cell_type": "code",
   "execution_count": null,
   "metadata": {},
   "outputs": [],
   "source": [
    "logs = pd.read_csv('well4.log', skiprows=14,\n",
    "                    names = ['DEPT', 'GR', 'PR', 'RHOB', 'CALI', 'VELS', 'VELC'],\n",
    "                  sep='\\s+', na_values=-999.25)\n",
    "\n",
    "logs.head()"
   ]
  },
  {
   "cell_type": "code",
   "execution_count": null,
   "metadata": {},
   "outputs": [],
   "source": [
    "# Lets check if this file has constant sampling depth\n",
    "logs.DEPT.diff().unique()"
   ]
  },
  {
   "cell_type": "code",
   "execution_count": null,
   "metadata": {},
   "outputs": [],
   "source": [
    "vol = pd.read_csv('well4.elan', skiprows=14,\n",
    "                      names = ['DEPT', 'VILL', 'VXBW', 'VCOA', 'VQUA',\n",
    "                             'VCLC', 'VPAR', 'VXOI', 'VXGA', 'VXWA', 'SDR'],\n",
    "                  sep='\\s+', na_values=-999.25)\n",
    "cols = list(vol)\n",
    "cols.remove('DEPT')\n",
    "\n",
    "vol.loc[vol.SDR == 999.25, cols] = np.nan\n",
    "\n",
    "\n",
    "vol.head()"
   ]
  },
  {
   "cell_type": "code",
   "execution_count": null,
   "metadata": {},
   "outputs": [],
   "source": [
    "# Now the .elan file\n",
    "!head -14 well4.elan | cat -n"
   ]
  },
  {
   "cell_type": "code",
   "execution_count": null,
   "metadata": {},
   "outputs": [],
   "source": [
    "cols"
   ]
  },
  {
   "cell_type": "code",
   "execution_count": null,
   "metadata": {},
   "outputs": [],
   "source": [
    "# Facecolors for the volume plot\n",
    "facecolor = {\n",
    "    'VILL' : sns.xkcd_rgb['forest'],\n",
    "    'VXBW' : sns.xkcd_rgb['royal blue'],\n",
    "    'VQUA' : sns.xkcd_rgb['yellow'],\n",
    "    'VCLC' : sns.xkcd_rgb['blue green'],\n",
    "    'VPAR' : sns.xkcd_rgb['grey'],\n",
    "    'VCOA' : sns.xkcd_rgb['black'],\n",
    "    \n",
    "    'VXWA' : sns.xkcd_rgb['aqua'],\n",
    "    'VXOI' : sns.xkcd_rgb['bright green'],\n",
    "    'VXGA' : sns.xkcd_rgb['bright red']\n",
    "}\n",
    "\n",
    "hatch = {\n",
    "    'VILL' : '-',\n",
    "    'VXBW' : '-',\n",
    "    'VQUA' : '.',\n",
    "    'VCLC' : '+',\n",
    "    'VPAR' : None,\n",
    "    'VCOA' : None,\n",
    "    \n",
    "    'VXWA' : None,\n",
    "    'VXOI' : None,\n",
    "    'VXGA' : None\n",
    "}"
   ]
  },
  {
   "cell_type": "code",
   "execution_count": null,
   "metadata": {},
   "outputs": [],
   "source": [
    "# Checking volume sums\n",
    "\n",
    "cols = list(vol)\n",
    "cols.remove('DEPT')\n",
    "cols.remove('SDR')\n",
    "plt.plot(vol[cols].sum(axis=1), '.')"
   ]
  },
  {
   "cell_type": "code",
   "execution_count": null,
   "metadata": {},
   "outputs": [],
   "source": [
    "from matplotlib.ticker import AutoMinorLocator\n",
    "minor_locator = AutoMinorLocator(10)"
   ]
  },
  {
   "cell_type": "code",
   "execution_count": null,
   "metadata": {},
   "outputs": [],
   "source": [
    "plt.figure(figsize=(10,100))\n",
    "ax = plt.subplot(151)\n",
    "\n",
    "# Caliper\n",
    "plt.plot(logs.CALI, logs.DEPT, 'k', label='CALI', lw=1)\n",
    "plt.xlim(200, 600)\n",
    "plt.gca().xaxis.tick_top()\n",
    "plt.gca().set_xlabel('CALI (mm)')    \n",
    "plt.gca().xaxis.set_label_position('top') \n",
    "plt.locator_params(axis='x', nbins=3)\n",
    "plt.yticks(np.arange(np.floor(logs.DEPT.min() / 100) * 100,\n",
    "                     np.ceil(logs.DEPT.max()/100) * 100 + 100, 100),\n",
    "          rotation=90)\n",
    "\n",
    "plt.gca().yaxis.set_minor_locator(minor_locator)\n",
    "plt.grid()\n",
    "\n",
    "# Gamma Ray\n",
    "plt.subplot(152, sharey=ax)\n",
    "\n",
    "## Plot normal curve\n",
    "cutoff = np.percentile(logs[logs.GR.notnull()].GR, 50)\n",
    "\n",
    "plt.fill_betweenx(logs.DEPT, logs.GR, cutoff, where= logs.GR > cutoff,\n",
    "                  facecolor=sns.xkcd_rgb['puke green'])\n",
    "plt.fill_betweenx(logs.DEPT, logs.GR, cutoff, where= logs.GR < cutoff,\n",
    "                  facecolor=sns.xkcd_rgb['yellow'])\n",
    "\n",
    "plt.plot(logs.GR, logs.DEPT, 'k-', label='GR', lw=1)\n",
    "\n",
    "## Plot backup\n",
    "plt.plot(logs.GR - 150, logs.DEPT, 'k--', label='GR', lw=1)\n",
    "\n",
    "plt.xlim(0, 150)\n",
    "\n",
    "\n",
    "plt.gca().xaxis.tick_top()\n",
    "plt.gca().set_xlabel('GR (GAPI)')    \n",
    "plt.gca().xaxis.set_label_position('top') \n",
    "\n",
    "plt.setp(plt.gca().get_yticklabels(), visible=False)\n",
    "plt.locator_params(axis='x', nbins=3)\n",
    "plt.grid()\n",
    "\n",
    "# Plot density\n",
    "plt.subplot(153, sharey=ax)\n",
    "\n",
    "## Normal curve\n",
    "plt.plot(logs.RHOB, logs.DEPT, color=sns.xkcd_rgb['brick'], label='RHOB', lw=1)\n",
    "\n",
    "## Plot backup\n",
    "plt.plot(logs.RHOB + 1000, logs.DEPT, ls='--', color=sns.xkcd_rgb['brick'],\n",
    "         label='RHOB', lw=1)\n",
    "\n",
    "plt.gca().xaxis.tick_top()\n",
    "plt.gca().set_xlabel(u'RHOB (kg/m³)')    \n",
    "plt.gca().xaxis.set_label_position('top') \n",
    "\n",
    "plt.setp( plt.gca().get_yticklabels(), visible=False)\n",
    "plt.gca().set_xticks([1950, 2200, 2450, 2700, 2950])\n",
    "plt.gca().set_xticklabels([1950, '', 2450, '', 2950])\n",
    "plt.grid()\n",
    "\n",
    "plt.xlim(2950, 1950)\n",
    "\n",
    "# Plot velocity\n",
    "plt.subplot(154, sharey=ax)\n",
    "\n",
    "plt.plot(logs.VELC, logs.DEPT, color=sns.xkcd_rgb['blue green'], label='VELC', lw=1)\n",
    "plt.plot(logs.VELS, logs.DEPT, color=sns.xkcd_rgb['blood red'], label='VELS', lw=1)\n",
    "\n",
    "\n",
    "plt.gca().xaxis.tick_top()\n",
    "plt.gca().set_xlabel('Velocity (km/s)')    \n",
    "plt.gca().xaxis.set_label_position('top') \n",
    "\n",
    "plt.setp( plt.gca().get_yticklabels(), visible=False)\n",
    "plt.locator_params(axis='x', nbins=3)\n",
    "plt.grid()\n",
    "\n",
    "# Plot Volumes\n",
    "plt.subplot(155, sharey=ax)\n",
    "\n",
    "y = np.zeros(len(vol))\n",
    "    \n",
    "for i, col in enumerate(['VILL', 'VXBW', 'VQUA', 'VCLC', 'VPAR', 'VCOA', 'VXWA', 'VXOI', 'VXGA']):\n",
    "    y += vol[col]\n",
    "    plt.fill_betweenx(vol.DEPT, y, 0,\n",
    "                  facecolor=facecolor[col],\n",
    "                 zorder=-i, lw=0, label=col,\n",
    "                     hatch=hatch[col])\n",
    "\n",
    "#plt.legend(loc='upper center', bbox_to_anchor=(-2.95, 1.07), ncol=5)\n",
    "plt.gca().xaxis.tick_top()\n",
    "plt.gca().set_xlabel('Volume')    \n",
    "plt.gca().xaxis.set_label_position('top') \n",
    "\n",
    "plt.setp( plt.gca().get_yticklabels(), visible=False)\n",
    "plt.locator_params(axis='x', nbins=3)\n",
    "plt.grid(axis='y')\n",
    "plt.xlim(0,1)\n",
    "\n",
    "plt.autoscale(enable=True, axis='y', tight=True)\n",
    "#plt.ylim(1500, 2500)\n",
    "plt.ylim(plt.ylim()[::-1])\n",
    "\n",
    "plt.tight_layout()\n",
    "\n",
    "plt.savefig('well_4_composite_log.pdf')\n",
    "\n",
    "plt.close()"
   ]
  },
  {
   "cell_type": "markdown",
   "metadata": {},
   "source": [
    "# Analysing well 5"
   ]
  },
  {
   "cell_type": "code",
   "execution_count": null,
   "metadata": {
    "scrolled": true
   },
   "outputs": [],
   "source": [
    "# First, lets inspect the .blk file\n",
    "!head well5.blk | cat -n"
   ]
  },
  {
   "cell_type": "code",
   "execution_count": null,
   "metadata": {
    "scrolled": true
   },
   "outputs": [],
   "source": [
    "# Now the .log\n",
    "!head -15 well5.log | cat -n"
   ]
  },
  {
   "cell_type": "code",
   "execution_count": null,
   "metadata": {
    "scrolled": true
   },
   "outputs": [],
   "source": [
    "# Finaly the .Q file\n",
    "!head well5.Q | cat -n"
   ]
  },
  {
   "cell_type": "markdown",
   "metadata": {},
   "source": [
    "Well 5 has the same log set as Well 4. So we just repeat the drill."
   ]
  },
  {
   "cell_type": "code",
   "execution_count": null,
   "metadata": {},
   "outputs": [],
   "source": [
    "logs = pd.read_csv('well5.log', skiprows=14,\n",
    "                    names = ['DEPT', 'GR', 'PR', 'RHOB', 'CALI', 'VELC', 'VELS'],\n",
    "                  sep='\\s+', na_values=[-999.25, -9999.25])\n",
    "\n",
    "logs.head()"
   ]
  },
  {
   "cell_type": "code",
   "execution_count": null,
   "metadata": {},
   "outputs": [],
   "source": [
    "# Lets check if this file has constant sampling depth\n",
    "logs.DEPT.diff().unique()"
   ]
  },
  {
   "cell_type": "code",
   "execution_count": null,
   "metadata": {
    "scrolled": true
   },
   "outputs": [],
   "source": [
    "# Now the .elan file\n",
    "!head -15 well5.elan | cat -n"
   ]
  },
  {
   "cell_type": "code",
   "execution_count": null,
   "metadata": {},
   "outputs": [],
   "source": [
    "# There's to coal on well 5\n",
    "\n",
    "vol = pd.read_csv('well5.elan', skiprows=14,\n",
    "                      names = ['DEPT', 'VILL', 'VXBW', 'VCLC',\n",
    "                             'VQUA', 'VPAR', 'VXOI', 'VXGA', 'VXWA', 'SDR'],\n",
    "                  sep='\\s+', na_values=-999.25)\n",
    "cols = list(vol)\n",
    "cols.remove('DEPT')\n",
    "\n",
    "vol.loc[vol.SDR == 999.25, cols] = np.nan\n",
    "\n",
    "\n",
    "vol.head()"
   ]
  },
  {
   "cell_type": "markdown",
   "metadata": {},
   "source": [
    "## Ploting Well 5 composite log"
   ]
  },
  {
   "cell_type": "code",
   "execution_count": null,
   "metadata": {},
   "outputs": [],
   "source": [
    "# Checking volume sums\n",
    "\n",
    "cols = list(vol)\n",
    "cols.remove('DEPT')\n",
    "cols.remove('SDR')\n",
    "plt.plot(vol[cols].sum(axis=1), '.')"
   ]
  },
  {
   "cell_type": "code",
   "execution_count": null,
   "metadata": {},
   "outputs": [],
   "source": [
    "plt.figure(figsize=(10,100))\n",
    "ax = plt.subplot(151)\n",
    "\n",
    "# Caliper\n",
    "plt.plot(logs.CALI, logs.DEPT, 'k', label='CALI', lw=1)\n",
    "plt.xlim(200, 600)\n",
    "plt.gca().xaxis.tick_top()\n",
    "plt.gca().set_xlabel('CALI (mm)')    \n",
    "plt.gca().xaxis.set_label_position('top') \n",
    "plt.locator_params(axis='x', nbins=3)\n",
    "plt.yticks(np.arange(np.floor(logs.DEPT.min() / 100) * 100,\n",
    "                     np.ceil(logs.DEPT.max()/100) * 100 + 100, 100),\n",
    "          rotation=90)\n",
    "\n",
    "plt.gca().yaxis.set_minor_locator(minor_locator)\n",
    "plt.grid()\n",
    "\n",
    "# Gamma Ray\n",
    "plt.subplot(152, sharey=ax)\n",
    "\n",
    "## Plot normal curve\n",
    "cutoff = np.percentile(logs[logs.GR.notnull()].GR, 50)\n",
    "\n",
    "plt.fill_betweenx(logs.DEPT, logs.GR, cutoff, where= logs.GR > cutoff,\n",
    "                  facecolor=sns.xkcd_rgb['puke green'])\n",
    "plt.fill_betweenx(logs.DEPT, logs.GR, cutoff, where= logs.GR < cutoff,\n",
    "                  facecolor=sns.xkcd_rgb['yellow'])\n",
    "\n",
    "plt.plot(logs.GR, logs.DEPT, 'k-', label='GR', lw=1)\n",
    "\n",
    "## Plot backup\n",
    "plt.plot(logs.GR - 150, logs.DEPT, 'k--', label='GR', lw=1)\n",
    "\n",
    "plt.xlim(0, 150)\n",
    "\n",
    "\n",
    "plt.gca().xaxis.tick_top()\n",
    "plt.gca().set_xlabel('GR (GAPI)')    \n",
    "plt.gca().xaxis.set_label_position('top') \n",
    "\n",
    "plt.setp(plt.gca().get_yticklabels(), visible=False)\n",
    "plt.locator_params(axis='x', nbins=3)\n",
    "plt.grid()\n",
    "\n",
    "# Plot density\n",
    "plt.subplot(153, sharey=ax)\n",
    "\n",
    "## Normal curve\n",
    "plt.plot(logs.RHOB, logs.DEPT, color=sns.xkcd_rgb['brick'], label='RHOB', lw=1)\n",
    "\n",
    "## Plot backup\n",
    "plt.plot(logs.RHOB + 1000, logs.DEPT, ls='--', color=sns.xkcd_rgb['brick'],\n",
    "         label='RHOB', lw=1)\n",
    "\n",
    "plt.gca().xaxis.tick_top()\n",
    "plt.gca().set_xlabel(u'RHOB (kg/m³)')    \n",
    "plt.gca().xaxis.set_label_position('top') \n",
    "\n",
    "plt.setp( plt.gca().get_yticklabels(), visible=False)\n",
    "plt.gca().set_xticks([1950, 2200, 2450, 2700, 2950])\n",
    "plt.gca().set_xticklabels([1950, '', 2450, '', 2950])\n",
    "plt.grid()\n",
    "\n",
    "plt.xlim(2950, 1950)\n",
    "\n",
    "# Plot velocity\n",
    "plt.subplot(154, sharey=ax)\n",
    "\n",
    "plt.plot(logs.VELC, logs.DEPT, color=sns.xkcd_rgb['blue green'], label='VELC', lw=1)\n",
    "plt.plot(logs.VELS, logs.DEPT, color=sns.xkcd_rgb['blood red'], label='VELS', lw=1)\n",
    "\n",
    "\n",
    "plt.gca().xaxis.tick_top()\n",
    "plt.gca().set_xlabel('Velocity (km/s)')    \n",
    "plt.gca().xaxis.set_label_position('top') \n",
    "\n",
    "plt.setp( plt.gca().get_yticklabels(), visible=False)\n",
    "plt.locator_params(axis='x', nbins=3)\n",
    "plt.grid()\n",
    "\n",
    "# Plot Volumes\n",
    "plt.subplot(155, sharey=ax)\n",
    "\n",
    "y = np.zeros(len(vol))\n",
    "    \n",
    "for i, col in enumerate(['VILL', 'VXBW', 'VQUA', 'VCLC', 'VPAR', 'VXWA', 'VXOI', 'VXGA']):\n",
    "    y += vol[col]\n",
    "    plt.fill_betweenx(vol.DEPT, y, 0,\n",
    "                  facecolor=facecolor[col],\n",
    "                 zorder=-i, lw=0, label=col,\n",
    "                     hatch=hatch[col])\n",
    "\n",
    "#plt.legend(loc='upper center', bbox_to_anchor=(-2.95, 1.07), ncol=5)\n",
    "plt.gca().xaxis.tick_top()\n",
    "plt.gca().set_xlabel('Volume')    \n",
    "plt.gca().xaxis.set_label_position('top') \n",
    "\n",
    "plt.setp( plt.gca().get_yticklabels(), visible=False)\n",
    "plt.locator_params(axis='x', nbins=3)\n",
    "plt.grid(axis='y')\n",
    "plt.xlim(0,1)\n",
    "\n",
    "plt.autoscale(enable=True, axis='y', tight=True)\n",
    "#plt.ylim(1500, 2500)\n",
    "plt.ylim(plt.ylim()[::-1])\n",
    "\n",
    "plt.tight_layout()\n",
    "\n",
    "plt.savefig('well_5_composite_log.pdf')\n",
    "plt.close()"
   ]
  },
  {
   "cell_type": "code",
   "execution_count": null,
   "metadata": {},
   "outputs": [],
   "source": [
    "## Viewing the results\n",
    "# You can view the composite logs of both wells using evince\n",
    "\n",
    "#!evince well_4_composite_log.pdf\n",
    "#!evince well_5_composite_log.pdf"
   ]
  },
  {
   "cell_type": "markdown",
   "metadata": {},
   "source": [
    "## Covert logs to LAS format\n",
    "\n",
    "To make it easier to use these wells, we should convert their logs to LAS format."
   ]
  },
  {
   "cell_type": "markdown",
   "metadata": {},
   "source": [
    "# Preliminar time-depth relationship\n",
    "\n",
    "For a first approximation we can use the VSP times as a time-depth relationship. After we have a well processed seismic we can fine tune it with a proper well tie"
   ]
  },
  {
   "cell_type": "code",
   "execution_count": null,
   "metadata": {},
   "outputs": [],
   "source": [
    "!head well4.Q | cat -n; echo\n",
    "!head well5.Q | cat -n; echo\n",
    "!head well7.Q | cat -n; echo"
   ]
  },
  {
   "cell_type": "code",
   "execution_count": null,
   "metadata": {},
   "outputs": [],
   "source": [
    "# Read well 4 data\n",
    "vsp = pd.read_csv('well4.Q', sep='\\s+', names=['DEPT', 'OWT', 'TWT', 'Q'],\n",
    "                 skiprows=8)\n",
    "vsp['WELL'] = 'Well 4'\n",
    "\n",
    "# Read well 5 data\n",
    "tmp = pd.read_csv('well5.Q', sep='\\s+', names=['DEPT', 'OWT', 'TWT', 'Q'],\n",
    "                 skiprows=8)\n",
    "tmp['WELL'] = 'Well 5'\n",
    "vsp = vsp.append(tmp)\n",
    "\n",
    "# Read well 7 data\n",
    "tmp = pd.read_csv('well7.Q', sep='\\s+', names=['DEPT', 'OWT', 'TWT', 'Q'],\n",
    "                 skiprows=9)\n",
    "tmp['WELL'] = 'Well 7'\n",
    "vsp = vsp.append(tmp)\n",
    "\n",
    "vsp.TWT /= 1000.\n",
    "vsp.head()"
   ]
  },
  {
   "cell_type": "code",
   "execution_count": null,
   "metadata": {},
   "outputs": [],
   "source": [
    "vsp['SSTVD'] = vsp.WELL.map(lambda x: metadata[x]['KB']) - vsp.DEPT"
   ]
  },
  {
   "cell_type": "code",
   "execution_count": null,
   "metadata": {},
   "outputs": [],
   "source": [
    "for well, gr in vsp.groupby('WELL'):\n",
    "    plt.plot(gr.TWT, gr.SSTVD, '.', label=well)\n",
    "    \n",
    "plt.ylabel('SSTVD (m)')\n",
    "plt.xlabel('two-way time (s)')\n",
    "plt.legend(loc='best')\n",
    "sns.despine(offset=5)"
   ]
  },
  {
   "cell_type": "markdown",
   "metadata": {},
   "source": [
    "# Making a RMS velocity curve for Well 5"
   ]
  },
  {
   "cell_type": "markdown",
   "metadata": {},
   "source": [
    "First we need a shallow layers velocity model, we can build that using first break picks and solving critical refraction equations."
   ]
  },
  {
   "cell_type": "code",
   "execution_count": null,
   "metadata": {},
   "outputs": [],
   "source": [
    "def rolling_sum(x, N):\n",
    "    cumsum = np.cumsum(np.insert(x, 0, 0))\n",
    "    return (cumsum[N:] - cumsum[:-N])\n",
    "\n",
    "def modified_energy_ratio(x,N):\n",
    "    a = np.append(np.ones(N-1)*np.mean(x[:2]), x)\n",
    "    a = rolling_sum(a*a,N)\n",
    "\n",
    "    b = np.append(x, np.ones(N-1)*np.mean(x[:-2]))\n",
    "    b = rolling_sum(b*b,N)\n",
    "\n",
    "    return np.power(np.abs(x)*b/(a + 0.0001),3)"
   ]
  },
  {
   "cell_type": "code",
   "execution_count": null,
   "metadata": {},
   "outputs": [],
   "source": [
    "# Let's get the shotpoint on top of Well 5\n",
    "common_shot = 'line_12_csg_raw.rsf'\n",
    "data_sample = 'sample_shot.rsf'\n",
    "\n",
    "# Grab only shotpoint 822\n",
    "!sfwindow < {common_shot} n3=1 f3=713 > {data_sample}\n",
    "!sfin {data_sample}"
   ]
  },
  {
   "cell_type": "code",
   "execution_count": null,
   "metadata": {},
   "outputs": [],
   "source": [
    "data_sample = sf.Input(data_sample)\n",
    "\n",
    "n1 = data_sample.int('n1')\n",
    "n2 = data_sample.int('n2')\n",
    "d1 = data_sample.float('d1')\n",
    "o1 = data_sample.float('o1')\n",
    "\n",
    "data = np.zeros((n2, n1), dtype=np.float32)\n",
    "data_sample.read(data)"
   ]
  },
  {
   "cell_type": "code",
   "execution_count": null,
   "metadata": {},
   "outputs": [],
   "source": [
    "picks = []\n",
    "\n",
    "for trace in data:\n",
    "    picks.append(np.argmax(modified_energy_ratio(trace, 100)))\n",
    "    \n",
    "picks = np.array(picks)\n",
    "picks = picks[::-1]*d1 + o1"
   ]
  },
  {
   "cell_type": "code",
   "execution_count": null,
   "metadata": {},
   "outputs": [],
   "source": [
    "# Water layer properties\n",
    "v_water = 1500. #m/s\n",
    "h_water = metadata['Well 5']['WD'] #water depth\n",
    "owt_water = h_water/v_water"
   ]
  },
  {
   "cell_type": "code",
   "execution_count": null,
   "metadata": {},
   "outputs": [],
   "source": [
    "t = np.arange(n1) * d1 + o1\n",
    "x = np.arange(120) * 25 + 262 # Maybe I should read this from the header\n",
    "\n",
    "perc = np.percentile(data.ravel(), 99)\n",
    "\n",
    "extent = [x[-1], x[0], t[-1], t[0]]\n",
    "\n",
    "plt.figure(figsize=(5,6))\n",
    "plt.imshow(data.clip(-perc, perc).T, aspect='auto', extent=extent, cmap='gray_r')\n",
    "\n",
    "# Plottin the first break picks\n",
    "plt.plot(x, picks, color='r', lw=1, label='first break picks')\n",
    "\n",
    "# Plotting the events\n",
    "# direct wave\n",
    "plt.plot(x, x/v_water, 'b--', label='direct wave')\n",
    "# water bottom reflection\n",
    "plt.plot(x, 2* np.sqrt(x**2/(4*v_water**2) + (h_water/v_water)**2),\n",
    "         label='sea floor reflection')\n",
    "\n",
    "# X_cross for the first layer: https://en.wikipedia.org/wiki/Seismic_refraction\n",
    "x_cross = 2150 # I picked this from the plot\n",
    "\n",
    "p1, t01 = np.polyfit(x[x > 2150], picks[x > 2150], deg=1)\n",
    "v1 = 1/p1\n",
    "\n",
    "plt.plot(x, t01 + x/v1, label='first layer refraction')\n",
    "\n",
    "\n",
    "plt.ylabel('t (s)')\n",
    "plt.xlabel('offset (m)')\n",
    "\n",
    "plt.title('shotpoint %d' % metadata['Well 5']['EP'])\n",
    "\n",
    "plt.axis('tight')\n",
    "plt.ylim(2.5, 0)\n",
    "sns.despine()\n",
    "\n",
    "plt.legend(loc='best')"
   ]
  },
  {
   "cell_type": "markdown",
   "metadata": {},
   "source": [
    "### First layer properties"
   ]
  },
  {
   "cell_type": "code",
   "execution_count": null,
   "metadata": {},
   "outputs": [],
   "source": [
    "ic = np.arcsin(v_water/v1)\n",
    "h0 = t01*v_water/(2*np.cos(ic))\n",
    "h0, v1, h0/v1"
   ]
  },
  {
   "cell_type": "code",
   "execution_count": null,
   "metadata": {},
   "outputs": [],
   "source": [
    "# Water layer properties\n",
    "kb = metadata['Well 5']['KB'] # KB for datum conversions\n",
    "\n",
    "# RMS velocity for Well 5\n",
    "rms = pd.DataFrame({'DEPT' : [kb, h_water + kb, h_water + kb + h0],\n",
    "                    'SSTVD' : [0, -h_water, -h_water - h0],\n",
    "                    'OWT' : [0, owt_water, owt_water + h0/v1]})\n",
    "\n",
    "rms['TWT'] = rms.OWT * 2\n",
    "\n",
    "rms = rms.append(vsp.query('WELL == \"Well 5\"')[['DEPT', 'SSTVD', 'OWT', 'TWT']])\n",
    "rms.sort_values('DEPT', inplace=True)\n",
    "rms.reset_index(inplace=True, drop=True)"
   ]
  },
  {
   "cell_type": "code",
   "execution_count": null,
   "metadata": {},
   "outputs": [],
   "source": [
    "rms.head()"
   ]
  },
  {
   "cell_type": "code",
   "execution_count": null,
   "metadata": {},
   "outputs": [],
   "source": [
    "rms['VINT'] = rms.DEPT.diff()/rms.OWT.diff()\n",
    "rms.VINT = rms.VINT.fillna(1500)\n",
    "\n",
    "while(np.sum(~rms.VINT.between(1500, 8000)) > 0):\n",
    "    rms = rms[rms.VINT.between(1500, 8000)]\n",
    "    rms['VINT'] = rms.DEPT.diff()/rms.OWT.diff()\n",
    "    rms.VINT = rms.VINT.fillna(1500)"
   ]
  },
  {
   "cell_type": "code",
   "execution_count": null,
   "metadata": {},
   "outputs": [],
   "source": [
    "rms['VRMS'] = np.sqrt(np.cumsum(rms.VINT**2 * rms.OWT.diff())/np.cumsum(rms.OWT.diff()))\n",
    "rms.VRMS = rms.VRMS.fillna(1500)\n",
    "\n",
    "plt.figure(figsize=(3,6))\n",
    "plt.plot(rms.VRMS, rms.SSTVD, color='r', label='V$_{RMS}$')\n",
    "plt.step(rms.VINT, rms.SSTVD, color='g', where='post', label='V$_{int}$')\n",
    "plt.axhline(-metadata['Well 5']['WD'], ls='--', label='sea floor')\n",
    "plt.axhline(-h_water - h0, color='k', ls='--', label='first layer')\n",
    "\n",
    "plt.xlabel('velocity (m/s)')\n",
    "plt.ylabel('SSTVD (m)')\n",
    "\n",
    "plt.title('Well 5 RMS velocity profile')\n",
    "\n",
    "plt.legend(loc='best')\n",
    "sns.despine(offset=5)"
   ]
  },
  {
   "cell_type": "code",
   "execution_count": null,
   "metadata": {},
   "outputs": [],
   "source": [
    "rms.to_csv('well_5_rms_profile.txt', index=False)"
   ]
  }
 ],
 "metadata": {
  "kernelspec": {
   "display_name": "Python 3",
   "language": "python",
   "name": "python3"
  },
  "language_info": {
   "codemirror_mode": {
    "name": "ipython",
    "version": 2
   },
   "file_extension": ".py",
   "mimetype": "text/x-python",
   "name": "python",
   "nbconvert_exporter": "python",
   "pygments_lexer": "ipython2",
   "version": "2.7.18"
  }
 },
 "nbformat": 4,
 "nbformat_minor": 2
}
