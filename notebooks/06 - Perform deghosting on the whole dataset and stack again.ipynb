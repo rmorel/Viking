{
 "cells": [
  {
   "cell_type": "markdown",
   "metadata": {},
   "source": [
    "# Perform deghosting on the whole dataset and stack again\n",
    "\n",
    "Now I want to deghost the whole dataset, stack and compare this with the previous brute stack."
   ]
  },
  {
   "cell_type": "code",
   "execution_count": null,
   "metadata": {},
   "outputs": [],
   "source": [
    "import os\n",
    "\n",
    "# Set datapath properly\n",
    "path = os.path.abspath('../data/interim/DATAPATH')\n",
    "path = path + os.path.sep\n",
    "path"
   ]
  },
  {
   "cell_type": "code",
   "execution_count": null,
   "metadata": {},
   "outputs": [],
   "source": [
    "import numpy as np\n",
    "import pandas as pd\n",
    "import matplotlib.pyplot as plt\n",
    "import seaborn as sns\n",
    "\n",
    "import rsf.api as sf\n",
    "\n",
    "%matplotlib inline\n",
    "\n",
    "# Set a custom DATAPATH to Madagascar\n",
    "%env DATAPATH={path}"
   ]
  },
  {
   "cell_type": "code",
   "execution_count": null,
   "metadata": {},
   "outputs": [],
   "source": [
    "sns.set_style('ticks')"
   ]
  },
  {
   "cell_type": "markdown",
   "metadata": {},
   "source": [
    "## Apply deghosting using receiver ghosting wavelet"
   ]
  },
  {
   "cell_type": "markdown",
   "metadata": {},
   "source": [
    "First, let's pad and fourier transform the data."
   ]
  },
  {
   "cell_type": "code",
   "execution_count": null,
   "metadata": {},
   "outputs": [],
   "source": [
    "common_shot = 'line_12_csg_raw.rsf'\n",
    "common_shot_fourier = 'common_shot_fourier.rsf'"
   ]
  },
  {
   "cell_type": "code",
   "execution_count": null,
   "metadata": {},
   "outputs": [],
   "source": [
    "# First let's pad and FFT the shot\n",
    "!sffft1 < {common_shot} > {common_shot_fourier}"
   ]
  },
  {
   "cell_type": "code",
   "execution_count": null,
   "metadata": {},
   "outputs": [],
   "source": [
    "!sfin < {common_shot_fourier}"
   ]
  },
  {
   "cell_type": "code",
   "execution_count": null,
   "metadata": {},
   "outputs": [],
   "source": [
    "# Deghos the entire dataset\n",
    "rec_deghost = 'receiver_deghost.rsf'\n",
    "decon_operator = 'receiver_deghost_operator.rsf'\n",
    "\n",
    "!sfspray n=120 < {decon_operator} | sfspray n=1001 axis=3 | sfmul {common_shot_fourier} |\\\n",
    "    sffft1 inv=y | sfbandpass flo=6 fhi=75 nphi=8 > {rec_deghost}"
   ]
  },
  {
   "cell_type": "markdown",
   "metadata": {},
   "source": [
    "# Brute stack with deghosted data"
   ]
  },
  {
   "cell_type": "markdown",
   "metadata": {},
   "source": [
    "First, sort the data into CDP domain"
   ]
  },
  {
   "cell_type": "code",
   "execution_count": null,
   "metadata": {},
   "outputs": [],
   "source": [
    "deghosted_cdps = 'line_cdp_deghosted.rsf'\n",
    "header_int = 'line_12_header_int.rsf'\n",
    "\n",
    "!sfintbin < {rec_deghost} head={header_int} yk=cdp xk=cdpt > {deghosted_cdps}"
   ]
  },
  {
   "cell_type": "markdown",
   "metadata": {},
   "source": [
    "Now stack the deghosted CDP data"
   ]
  },
  {
   "cell_type": "code",
   "execution_count": null,
   "metadata": {},
   "outputs": [],
   "source": [
    "mask = 'line_cdp_mask.rsf'\n",
    "offsets = 'line_cdp_offset.rsf'\n",
    "deghost_stack = 'deghost_brute_stack.rsf'\n",
    "vstk = 'first_stacking_velocity.rsf'\n",
    "\n",
    "!sfpow tpow=2 < {deghosted_cdps} | \\\n",
    "    sfnmo velocity={vstk} offset={offsets} mask={mask} half=n | \\\n",
    "    sfstack  | sfagc > {deghost_stack}"
   ]
  },
  {
   "cell_type": "code",
   "execution_count": null,
   "metadata": {},
   "outputs": [],
   "source": [
    "img = sf.Input(deghost_stack)\n",
    "\n",
    "n1 = img.int('n1')\n",
    "n2 = img.int('n2')\n",
    "d1 = img.float('d1')\n",
    "o1 = img.float('o1')\n",
    "d2 = img.float('d2')\n",
    "o2 = img.float('o2')\n",
    "\n",
    "data = np.zeros((n2, n1), dtype=np.float32)\n",
    "img.read(data)"
   ]
  },
  {
   "cell_type": "code",
   "execution_count": null,
   "metadata": {},
   "outputs": [],
   "source": [
    "perc = np.percentile(data.ravel(), 99)\n",
    "t = np.arange(n1) * d1 + o1\n",
    "extent = [0, n2, t[-1], o1]\n",
    "plt.figure(figsize=(8, 5))\n",
    "img = plt.imshow(data.clip(-perc, perc).T, aspect='auto',\n",
    "                 extent=extent, cmap='gray_r')\n",
    "\n",
    "\n",
    "plt.ylabel('t (s)')\n",
    "plt.xlabel('sequential shotpoint')\n",
    "\n",
    "plt.ylim(3,0)\n",
    "\n",
    "plt.title('Brute stack w/ single velocity function, deghosting and AGC')\n",
    "\n",
    "sns.despine()\n",
    "plt.colorbar(img, shrink=0.7, label='Amplitude')\n",
    "\n",
    "plt.tight_layout()"
   ]
  },
  {
   "cell_type": "code",
   "execution_count": null,
   "metadata": {},
   "outputs": [],
   "source": [
    "# CDP window\n",
    "start = 1502 - 5\n",
    "lenght = 10\n",
    "\n",
    "cdp_sample = 'deghost_cdp_sample.rsf'\n",
    "offset_sample = 'offset_cdp_sample.rsf'\n",
    "mask_sample = 'mask_cdp_sample.rsf'"
   ]
  },
  {
   "cell_type": "code",
   "execution_count": null,
   "metadata": {},
   "outputs": [],
   "source": [
    "!sfwindow < {deghosted_cdps} f3={start} n3={lenght} > {cdp_sample}"
   ]
  },
  {
   "cell_type": "code",
   "execution_count": null,
   "metadata": {},
   "outputs": [],
   "source": [
    "v0=1.3\n",
    "dv=0.025\n",
    "nv=90\n",
    "\n",
    "semblance = 'deghost_semblance.rsf'\n",
    "\n",
    "!sfagc < {cdp_sample} tpow=2 | sfvscan offset={offset_sample} mask={mask_sample} half=n \\\n",
    "     semblance=y v0={v0} nv={nv} dv={dv} nb=5  | sfstack axis=3 > {semblance}"
   ]
  },
  {
   "cell_type": "code",
   "execution_count": null,
   "metadata": {},
   "outputs": [],
   "source": [
    "img = sf.Input(semblance)\n",
    "\n",
    "n1 = img.int('n1')\n",
    "n2 = img.int('n2')\n",
    "d1 = img.float('d1')\n",
    "o1 = img.float('o1')\n",
    "d2 = img.float('d2')\n",
    "o2 = img.float('o2')\n",
    "\n",
    "data = np.zeros((n2, n1), dtype=np.float32)\n",
    "img.read(data)"
   ]
  },
  {
   "cell_type": "code",
   "execution_count": null,
   "metadata": {},
   "outputs": [],
   "source": [
    "# Importing Well 5 RMS profile\n",
    "rms = pd.read_csv('well_5_rms_profile.txt')\n",
    "picks = pd.read_csv('../data/raw/first_velan_picks.csv')"
   ]
  },
  {
   "cell_type": "code",
   "execution_count": null,
   "metadata": {},
   "outputs": [],
   "source": [
    "t = np.arange(n1)*d1 + o1\n",
    "x = np.arange(n2)*d2 + o2\n",
    "extent=[x[0], x[-1], t[-1], t[0]]\n",
    "\n",
    "x, t = np.meshgrid(x,t)\n",
    "\n",
    "plt.figure(figsize=(3.5,5))\n",
    "img = plt.imshow(data.T, aspect='auto', cmap='cubehelix', extent=extent)\n",
    "#plt.contour(x, t, data.T, 3, colors='k', linewidths=1)\n",
    "plt.plot(picks.VSTK, picks.TWT, color='white')\n",
    "plt.plot(rms.VRMS/1000., rms.TWT, ls='--')\n",
    "sns.despine()\n",
    "plt.axis('tight')\n",
    "plt.colorbar(img, label='semblance')\n",
    "\n",
    "plt.tight_layout()"
   ]
  }
 ],
 "metadata": {
  "kernelspec": {
   "display_name": "Python 3",
   "language": "python",
   "name": "python3"
  },
  "language_info": {
   "codemirror_mode": {
    "name": "ipython",
    "version": 2
   },
   "file_extension": ".py",
   "mimetype": "text/x-python",
   "name": "python",
   "nbconvert_exporter": "python",
   "pygments_lexer": "ipython2",
   "version": "2.7.18"
  }
 },
 "nbformat": 4,
 "nbformat_minor": 2
}
