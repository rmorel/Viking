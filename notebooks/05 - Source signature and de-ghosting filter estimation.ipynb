{
 "cells": [
  {
   "cell_type": "markdown",
   "metadata": {},
   "source": [
    "# Source signature and de-ghosting filter estimation\n",
    "\n",
    "> “Why worry? Each one of us is carrying an unlicensed nuclear accelerator on his back.” Peter Venkman, Ghostbusters (1984)\n",
    "\n",
    "Now it's time for some de-ghosting, for that I'll try to follow [this excelent tutorial](http://seismicreflections.globeclaritas.com/2013/05/marine-processing-part-1-resample.html) by Guy Maslen."
   ]
  },
  {
   "cell_type": "code",
   "execution_count": null,
   "metadata": {},
   "outputs": [],
   "source": [
    "import os\n",
    "\n",
    "# Set datapath properly\n",
    "path = os.path.abspath('../data/interim/DATAPATH')\n",
    "path = path + os.path.sep\n",
    "path"
   ]
  },
  {
   "cell_type": "code",
   "execution_count": null,
   "metadata": {},
   "outputs": [],
   "source": [
    "import numpy as np\n",
    "import pandas as pd\n",
    "import matplotlib.pyplot as plt\n",
    "import seaborn as sns\n",
    "\n",
    "import rsf.api as sf\n",
    "\n",
    "%matplotlib inline\n",
    "\n",
    "# Set a custom DATAPATH to Madagascar\n",
    "%env DATAPATH={path}"
   ]
  },
  {
   "cell_type": "code",
   "execution_count": null,
   "metadata": {},
   "outputs": [],
   "source": [
    "sns.set_style('ticks')"
   ]
  },
  {
   "cell_type": "code",
   "execution_count": null,
   "metadata": {},
   "outputs": [],
   "source": [
    "# This requires scipy 1.2.0 at least\n",
    "from scipy.signal import minimum_phase, decimate, correlate"
   ]
  },
  {
   "cell_type": "markdown",
   "metadata": {},
   "source": [
    "# Processing steps\n",
    "\n",
    "Processing steps to make a de-ghosting filter:\n",
    "\n",
    "- Read the wavelet signature\n",
    "- Correct for possible recording delay times\n",
    "- Calculate the wavelet spectra\n",
    "- Identify notches in the spectra\n",
    "- Estimate source ghosting delay time from source depth\n",
    "- Deal with receiver ghosting\n",
    "- Apply anti-alias filtering\n",
    "- Convolve this filter with a sample shot"
   ]
  },
  {
   "cell_type": "markdown",
   "metadata": {},
   "source": [
    "The first thing to do is analyse the source signature provided with the data. The recorded signature was measured on a hydrophone at a depth of 250 m below the array, as described in the original article."
   ]
  },
  {
   "cell_type": "code",
   "execution_count": null,
   "metadata": {},
   "outputs": [],
   "source": [
    "wavelet = np.loadtxt('FarField.dat')\n",
    "dt = 0.001 # Far Field wavelet time sampling\n",
    "t = np.arange(wavelet.shape[0]) * dt\n",
    "\n",
    "# Get the first \"non zero\" time\n",
    "t0 = np.argmax(np.abs(wavelet) > 0.03) * dt\n",
    "\n",
    "plt.fill_between(t, wavelet, where=wavelet > 0, color='gray')\n",
    "plt.plot(t, wavelet, 'k')\n",
    "plt.axvline(t0, color='k', ls='--')\n",
    "plt.xlabel('t (s)')\n",
    "plt.title('Far field wavelet')\n",
    "sns.despine(offset=5);"
   ]
  },
  {
   "cell_type": "code",
   "execution_count": null,
   "metadata": {},
   "outputs": [],
   "source": [
    "print('Estimated recording delay time: %.3f s [%d samples]' % (t0, t0/dt));"
   ]
  },
  {
   "cell_type": "markdown",
   "metadata": {},
   "source": [
    "## Source wavelet spectrogram using Welch's method\n",
    "\n",
    "Now I will estimate the spectrogram of the wavelet. This is a little different from Madagascar's sfspectra, since this one uses Welch's method. This gives a smoother periodogram that is more robust to noise, at the expense of some frequency resolution. (see [this stackoverflow anwser](https://stackoverflow.com/questions/29844783/difference-between-magnitude-spectrum-result-available-in-matplotlib-mlab-and-nu) for further details)"
   ]
  },
  {
   "cell_type": "code",
   "execution_count": null,
   "metadata": {},
   "outputs": [],
   "source": [
    "Fs = 1./dt\n",
    "\n",
    "# This PSD is very sensitive to NFFT (window size) and padding.\n",
    "Pxx, freqs = plt.psd(wavelet, NFFT=128, detrend='none',\n",
    "                     noverlap=0, Fs=Fs, pad_to=1024,\n",
    "                     scale_by_freq=False)\n",
    "\n",
    "# Ghost notch frequency\n",
    "plt.axvline(125, color='gray', ls='--')\n",
    "\n",
    "plt.xlabel('Frequency (Hz)')\n",
    "plt.title('Source original power spectral density (Welch\\'s method)')\n",
    "sns.despine(offset=5)"
   ]
  },
  {
   "cell_type": "markdown",
   "metadata": {},
   "source": [
    "On the frequency spectra above the fist notch is probably the ghost notch, since the source towing depth is 6m. This is the result of the interference between the original downgoing wavelet and the wavelet reflected at the sea surface, this interference is most desctrutive at 125 Hz since the delay time is 8 ms (considering water velocity as 1500 m/s and total traveled distance as 12 m)."
   ]
  },
  {
   "cell_type": "markdown",
   "metadata": {},
   "source": [
    "## Source wavelet spectrogram using FFT and padding\n",
    "\n",
    "Below I also show the wavelet spectrogram, just to be sure if the window size on Welch's method is not masking the wavelet spectra. Notice, it's the same shape, but noisy."
   ]
  },
  {
   "cell_type": "code",
   "execution_count": null,
   "metadata": {},
   "outputs": [],
   "source": [
    "pad_len = 1024\n",
    "wavelet_pad = np.pad(wavelet, (0, pad_len - len(wavelet)), 'constant')\n",
    "\n",
    "Pxx = np.abs(np.fft.fft(wavelet_pad))\n",
    "freqs = np.fft.fftfreq(wavelet_pad.size, dt)\n",
    "\n",
    "Pxx = Pxx[freqs >= 0]\n",
    "freqs = freqs[freqs >= 0]\n",
    "\n",
    "# Ghost notch frequency\n",
    "plt.axvline(125, color='gray', ls='--')\n",
    "\n",
    "plt.plot(freqs, 10*np.log10(Pxx/Pxx[0]))\n",
    "plt.grid()\n",
    "sns.despine(offset=5)\n",
    "\n",
    "plt.xlabel('Frequency (Hz)')\n",
    "plt.ylabel('Power Spectral Density (dB)')\n",
    "plt.title('Source original power spectral density (simple FFT)');"
   ]
  },
  {
   "cell_type": "markdown",
   "metadata": {},
   "source": [
    "Let's write the original wavelet to RSF format."
   ]
  },
  {
   "cell_type": "code",
   "execution_count": null,
   "metadata": {},
   "outputs": [],
   "source": [
    "wavelet_original = 'original_source_signature.rsf'\n",
    "\n",
    "out = sf.Output(wavelet_original)\n",
    "out.put('n1', wavelet.shape[0])\n",
    "out.put('d1', dt)\n",
    "out.put('o1', 0)\n",
    "out.write(wavelet.astype(np.float32))\n",
    "out.close()"
   ]
  },
  {
   "cell_type": "markdown",
   "metadata": {},
   "source": [
    "## Receiver ghost component\n",
    "\n",
    "Since the cable towing depth is 10 m and the water velocity is 1500 m/s, the delay time for the receiver ghosting is:"
   ]
  },
  {
   "cell_type": "code",
   "execution_count": null,
   "metadata": {},
   "outputs": [],
   "source": [
    "v_water = 1.5 #km/s\n",
    "cable_towing_depth = 0.01 # km \n",
    "\n",
    "tr = (2*cable_towing_depth)/v_water # Receiver ghosting delay (s)\n",
    "\n",
    "print('Delay time for receiver ghost: %f s' % tr)"
   ]
  },
  {
   "cell_type": "code",
   "execution_count": null,
   "metadata": {},
   "outputs": [],
   "source": [
    "receiver_ghost = np.zeros(wavelet_pad.size)\n",
    "receiver_ghost[0] = 1\n",
    "receiver_ghost[np.int(tr/dt)] = -1\n",
    "\n",
    "t = np.arange(wavelet_pad.size) * dt\n",
    "plt.vlines(t, [0], receiver_ghost)\n",
    "plt.axhline(0, color='k')\n",
    "sns.despine(offset=5)\n",
    "\n",
    "plt.title('Spikes to model the receiver ghost')"
   ]
  },
  {
   "cell_type": "code",
   "execution_count": null,
   "metadata": {},
   "outputs": [],
   "source": [
    "receiver_ghost = np.convolve(wavelet, receiver_ghost, mode='full')"
   ]
  },
  {
   "cell_type": "code",
   "execution_count": null,
   "metadata": {},
   "outputs": [],
   "source": [
    "t = np.arange(receiver_ghost.size)*dt\n",
    "plt.fill_between(t, receiver_ghost, where=receiver_ghost > 0, color='gray')\n",
    "plt.plot(t, receiver_ghost, 'k')\n",
    "plt.axvline(t0, color='k', ls='--')\n",
    "plt.xlabel('t (s)')\n",
    "plt.title('Source signature w/ receiver ghosting')\n",
    "\n",
    "plt.xlim(0,0.5)\n",
    "\n",
    "sns.despine(offset=5)"
   ]
  },
  {
   "cell_type": "code",
   "execution_count": null,
   "metadata": {},
   "outputs": [],
   "source": [
    "# This PSD is very sensitive to NFFT (window size) and padding.\n",
    "Pxx, freqs = plt.psd(receiver_ghost, NFFT=128, detrend='none',\n",
    "                     noverlap=0, Fs=Fs, pad_to=2048,\n",
    "                     scale_by_freq=False)\n",
    "\n",
    "# Source ghost notch frequency\n",
    "plt.axvline(125, color='gray', ls='--')\n",
    "\n",
    "# Receiver ghost first notch frequency\n",
    "plt.axvline(1/tr, color='red', ls='--')\n",
    "\n",
    "plt.xlabel('Frequency (Hz)')\n",
    "plt.title('Source signature w/ receiver ghosting power spectral density (Welch\\'s method)')\n",
    "sns.despine(offset=5)"
   ]
  },
  {
   "cell_type": "markdown",
   "metadata": {},
   "source": [
    "Now let's write the wavelet to disk, I'm doing the wavelet filtering, reasampling and the data deghosting using Madagascar programs."
   ]
  },
  {
   "cell_type": "code",
   "execution_count": null,
   "metadata": {},
   "outputs": [],
   "source": [
    "wavelet_receiver_ghosting = 'receiver_ghosting_source_signature.rsf'\n",
    "\n",
    "out = sf.Output(wavelet_receiver_ghosting)\n",
    "out.put('n1', receiver_ghost.shape[0])\n",
    "out.put('d1', dt)\n",
    "out.put('o1', 0)\n",
    "out.write(receiver_ghost.astype(np.float32))\n",
    "out.close()"
   ]
  },
  {
   "cell_type": "markdown",
   "metadata": {},
   "source": [
    "## Filtering the receiver ghosting\n",
    "\n",
    "As seen on the spectra above, there are several notches on the spectra for this wavelet. I'll use a low pass filter with cut frequency of 125 Hz and a gentle slope, that way we may remove noise that will polute the deconvolution further ahead. Also, I'll resample this wavelet to 4 ms\n",
    "\n",
    "To make signtature deconvolution we also need a shorter and smoother version of the wavelet, otherwise the signal gets very polluted with noise."
   ]
  },
  {
   "cell_type": "code",
   "execution_count": null,
   "metadata": {},
   "outputs": [],
   "source": [
    "wavelet_receiver_ghosting_resampled = 'receiver_ghosting_source_signature_resampled.rsf'\n",
    "f1 = np.int(t0/dt) # Remove the time delay before resampling\n",
    "\n",
    "!sfwindow f1={f1} < {wavelet_receiver_ghosting} | sfput o1=0 |\\\n",
    "    sfbandpass fhi=65 nphi=8 |\\\n",
    "    sfwindow j1=4 | sfwindow n1=128 |\\\n",
    "    sfpad n1=1500 >  {wavelet_receiver_ghosting_resampled}    "
   ]
  },
  {
   "cell_type": "code",
   "execution_count": null,
   "metadata": {},
   "outputs": [],
   "source": [
    "!sfin {wavelet_receiver_ghosting_resampled}"
   ]
  },
  {
   "cell_type": "code",
   "execution_count": null,
   "metadata": {},
   "outputs": [],
   "source": [
    "# Create a smooth and shorter wavelet. I'll also go ahead and pad it to the correct lenght\n",
    "\n",
    "wavelet_receiver_ghosting_smooth = 'receiver_smooth_wavelet.rsf'\n",
    "\n",
    "!sfsmooth rect1=3 repeat=3 < {wavelet_receiver_ghosting} |\\\n",
    "    sfcut f1=99 | sfbandpass fhi=65 nphi=8 | sfwindow f1={f1} |\\\n",
    "    sfput o1=0 | sfwindow j1=4 | sfwindow n1=128  | sfpad n1=1500 > {wavelet_receiver_ghosting_smooth}"
   ]
  },
  {
   "cell_type": "code",
   "execution_count": null,
   "metadata": {},
   "outputs": [],
   "source": [
    "!sfin {wavelet_receiver_ghosting_smooth}"
   ]
  },
  {
   "cell_type": "markdown",
   "metadata": {},
   "source": [
    "## Applying the de-ghosting filter to a sample shot\n",
    "\n",
    "This can be done using a matched filter, which can be implemented by simple cross-correlation with our minimum phase equivalent resampled wavelet.\n",
    "\n",
    "The processing steps are:\n",
    "\n",
    "- Pad the shot and wavelet to the same power of two (2048 samples in this case)\n",
    "- Use FFT to put both wavelet and shot in frequency domain\n",
    "- Calculate a apropriate signature deconvolution filter for each source wavelet.\n",
    "- Multiply in frequency domain\n",
    "- Do inverse Fourier transform by FFT to put the data back into time domain\n",
    "- Check for spurious noises and high frequency contamination. If present, check the filtering parameters for each wavelet.\n",
    "- Profit (?)"
   ]
  },
  {
   "cell_type": "code",
   "execution_count": null,
   "metadata": {},
   "outputs": [],
   "source": [
    "data_sample = 'sample_shot.rsf' #shotpoint from well 5\n",
    "shot_fourier = 'sample_shot_fourier.rsf'\n",
    "\n",
    "# First let's pad and FFT the shot\n",
    "!sffft1 < {data_sample} > {shot_fourier}"
   ]
  },
  {
   "cell_type": "code",
   "execution_count": null,
   "metadata": {},
   "outputs": [],
   "source": [
    "!sfin {shot_fourier}"
   ]
  },
  {
   "cell_type": "markdown",
   "metadata": {},
   "source": [
    "Now let's build and apply the first deconvolution operator, perform inverse fourier transform, remove padding and save the shot."
   ]
  },
  {
   "cell_type": "code",
   "execution_count": null,
   "metadata": {},
   "outputs": [],
   "source": [
    "sample_min_phase_deghost = 'sample_min_phase_deghost.rsf'\n",
    "\n",
    "# FFT the shot and smooth version of the wavelet\n",
    "!sffft1 < {wavelet_receiver_ghosting_smooth} > d.rsf"
   ]
  },
  {
   "cell_type": "code",
   "execution_count": null,
   "metadata": {},
   "outputs": [],
   "source": [
    "# Create a FFT source wavelet\n",
    "!sffft1 < {wavelet_receiver_ghosting_resampled} > s.rsf"
   ]
  },
  {
   "cell_type": "code",
   "execution_count": null,
   "metadata": {},
   "outputs": [],
   "source": [
    "# Create a decon operator\n",
    "decon_operator = 'receiver_deghost_operator.rsf'\n",
    "\n",
    "!sfmath s=s.rsf d=d.rsf output='(d*conj(s))/(s*conj(s) + 1e-6)' > {decon_operator}"
   ]
  },
  {
   "cell_type": "code",
   "execution_count": null,
   "metadata": {},
   "outputs": [],
   "source": [
    "sample_rec_deghost = 'sample_receiver_deghost.rsf'\n",
    "\n",
    "# Filter a single shot\n",
    "!sfspray n=120 < {decon_operator} | sfmul {shot_fourier} |\\\n",
    "    sffft1 inv=y | sfbandpass flo=6 fhi=75 nphi=8 > {sample_rec_deghost}"
   ]
  },
  {
   "cell_type": "markdown",
   "metadata": {},
   "source": [
    "Now, lets plot them side by side and compare."
   ]
  },
  {
   "cell_type": "code",
   "execution_count": null,
   "metadata": {},
   "outputs": [],
   "source": [
    "data_sample = sf.Input(data_sample)\n",
    "d1 = data_sample.float('d1')\n",
    "data_sample = np.array(data_sample)"
   ]
  },
  {
   "cell_type": "code",
   "execution_count": null,
   "metadata": {},
   "outputs": [],
   "source": [
    "sample_rec_deghost = np.array(sf.Input(sample_rec_deghost))"
   ]
  },
  {
   "cell_type": "code",
   "execution_count": null,
   "metadata": {},
   "outputs": [],
   "source": [
    "plt.figure(figsize=(8, 4))\n",
    "\n",
    "titles = ['Shotpoint 822', 'Receiver deghosted']\n",
    "t = np.arange(data_sample.shape[1]) * d1\n",
    "\n",
    "for i, data in enumerate([data_sample, sample_rec_deghost]):\n",
    "    plt.subplot(1,2, i+1)\n",
    "    perc = np.percentile(data.ravel(), 99)\n",
    "    extent = [0, data.shape[0], t[-1], t[0]]\n",
    "\n",
    "\n",
    "    plt.imshow(data.clip(-perc, perc).T, aspect='auto', extent=extent,\n",
    "              cmap='gray_r')\n",
    "\n",
    "    if i == 0:\n",
    "        plt.ylabel('t (s)')\n",
    "    plt.xlabel('channel')\n",
    "\n",
    "    plt.title(titles[i])\n",
    "    plt.ylim(3,0)\n",
    "\n",
    "    sns.despine()\n",
    "\n",
    "for ax in plt.gcf().axes:\n",
    "    try:\n",
    "        ax.label_outer()\n",
    "    except:\n",
    "        pass\n",
    "plt.tight_layout()\n",
    "plt.subplots_adjust(wspace=0.1)"
   ]
  },
  {
   "cell_type": "code",
   "execution_count": null,
   "metadata": {},
   "outputs": [],
   "source": [
    "plt.figure(figsize=(8, 4))\n",
    "\n",
    "for i, data in enumerate([data_sample, sample_rec_deghost]):\n",
    "    plt.subplot(2,1, i+1)\n",
    "    trace = data[-1]\n",
    "    \n",
    "    plt.fill_between(t, trace, where=trace > 0, color='gray', interpolate=True)\n",
    "    plt.plot(t, trace, 'k')\n",
    "    sns.despine(left=True)\n",
    "    plt.gca().axes.get_yaxis().set_visible(False)\n",
    "    plt.xlabel('t (s)')\n",
    "    plt.title(titles[i])\n",
    "    \n",
    "    # Sea floor reflection time\n",
    "    t_r = np.sqrt((262.5/2.)**2 + 355.5**2)/1500. * 2\n",
    "\n",
    "    plt.axvline(t_r, color='b', ls='--')\n",
    "    plt.xlim(0.4, 1)\n",
    "    \n",
    "plt.tight_layout()"
   ]
  },
  {
   "cell_type": "code",
   "execution_count": null,
   "metadata": {},
   "outputs": [],
   "source": [
    "data_sample.shape"
   ]
  },
  {
   "cell_type": "code",
   "execution_count": null,
   "metadata": {},
   "outputs": [],
   "source": [
    "for i, data in enumerate([data_sample, sample_rec_deghost]):\n",
    "    pad_len = 2048\n",
    "\n",
    "    shot_pad = np.pad(data,  ((0,0), (0, pad_len - data_sample.shape[1])), 'constant')\n",
    "\n",
    "    Pxx = np.abs(np.fft.fft(shot_pad, axis=1))\n",
    "    Pxx = np.mean(Pxx, axis=0)\n",
    "    freqs = np.fft.fftfreq(shot_pad.shape[1], 0.004)\n",
    "\n",
    "    Pxx = Pxx[freqs >= 0]\n",
    "    freqs = freqs[freqs >= 0]\n",
    "\n",
    "    plt.plot(freqs, 10*np.log10(Pxx/Pxx[0]), label=titles[i])\n",
    "\n",
    "plt.grid()\n",
    "sns.despine(offset=5)\n",
    "\n",
    "plt.xlabel('Frequency (Hz)')\n",
    "plt.ylabel('Power Spectral Density (dB)')\n",
    "plt.title('Power spectral density (simple FFT)')\n",
    "\n",
    "plt.legend(loc='best');"
   ]
  }
 ],
 "metadata": {
  "kernelspec": {
   "display_name": "Python 3",
   "language": "python",
   "name": "python3"
  },
  "language_info": {
   "codemirror_mode": {
    "name": "ipython",
    "version": 2
   },
   "file_extension": ".py",
   "mimetype": "text/x-python",
   "name": "python",
   "nbconvert_exporter": "python",
   "pygments_lexer": "ipython2",
   "version": "2.7.18"
  }
 },
 "nbformat": 4,
 "nbformat_minor": 2
}
