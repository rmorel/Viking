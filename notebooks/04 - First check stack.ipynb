{
 "cells": [
  {
   "cell_type": "markdown",
   "metadata": {},
   "source": [
    "# First check stack\n",
    "\n",
    "Now that we have a complete geometry, lets make a first stack (very raw) to check if everything is coherent."
   ]
  },
  {
   "cell_type": "code",
   "execution_count": null,
   "metadata": {},
   "outputs": [],
   "source": [
    "import os\n",
    "\n",
    "# Set datapath properly\n",
    "path = os.path.abspath('../data/interim/DATAPATH')\n",
    "path = path + os.path.sep\n",
    "path"
   ]
  },
  {
   "cell_type": "code",
   "execution_count": null,
   "metadata": {},
   "outputs": [],
   "source": [
    "import numpy as np\n",
    "import pandas as pd\n",
    "import matplotlib.pyplot as plt\n",
    "import seaborn as sns\n",
    "\n",
    "import rsf.api as sf\n",
    "\n",
    "%matplotlib inline\n",
    "\n",
    "# Set a custom DATAPATH to Madagascar\n",
    "%env DATAPATH={path}"
   ]
  },
  {
   "cell_type": "code",
   "execution_count": null,
   "metadata": {},
   "outputs": [],
   "source": [
    "sns.set_style('ticks')"
   ]
  },
  {
   "cell_type": "markdown",
   "metadata": {},
   "source": [
    "## Input files"
   ]
  },
  {
   "cell_type": "code",
   "execution_count": null,
   "metadata": {},
   "outputs": [],
   "source": [
    "raw_data = 'seismic.segy'\n",
    "common_shot = 'line_12_csg_raw.rsf'\n",
    "mask = 'line_cdp_mask.rsf'\n",
    "raw_cdp = 'line_raw_cdp.rsf'\n",
    "offsets = 'line_cdp_offset.rsf'\n",
    "stack = 'line_cvs_1500.rsf'\n",
    "header_int = 'line_12_header_int.rsf'\n",
    "header_complete = 'line_12_header_complete.rsf'"
   ]
  },
  {
   "cell_type": "code",
   "execution_count": null,
   "metadata": {},
   "outputs": [],
   "source": [
    "n2 = 120120 # Total number of traces"
   ]
  },
  {
   "cell_type": "markdown",
   "metadata": {},
   "source": [
    "## Processing steps\n",
    "\n",
    " - Sort data in CMP Gathers\n",
    " - Extract offset sorted in CMP Gathers\n",
    " - Apply $t^2$ gain and stack with constant velocity of 1.5 km/s\n",
    " \n",
    "These steps should result in a simple stacked session showing the sea bottom. Remember, in Madagascar we are using km and seconds as units."
   ]
  },
  {
   "cell_type": "code",
   "execution_count": null,
   "metadata": {},
   "outputs": [],
   "source": [
    "!sfput n2={n2} n3=1 < {common_shot} | \\\n",
    "    sfintbin head={header_int} yk=cdp xk=cdpt mask={mask} > {raw_cdp}"
   ]
  },
  {
   "cell_type": "code",
   "execution_count": null,
   "metadata": {},
   "outputs": [],
   "source": [
    "!sfintbin < {header_complete} head={header_int} yk=cdp xk=cdpt | \\\n",
    "    sfheadermath output='offset'/1000. > {offsets}"
   ]
  },
  {
   "cell_type": "code",
   "execution_count": null,
   "metadata": {},
   "outputs": [],
   "source": [
    "stack = 'line_12_stack_1500.rsf'"
   ]
  },
  {
   "cell_type": "code",
   "execution_count": null,
   "metadata": {},
   "outputs": [],
   "source": [
    "!sfpow pow1=2 < {raw_cdp} | \\\n",
    "    sfstacks half=n offset={offsets} nv=1 v0=1.5 dv=1 mask={mask} | \\\n",
    "    sftransp plane=23 | \\\n",
    "    sfput label2=cdp > {stack}"
   ]
  },
  {
   "cell_type": "markdown",
   "metadata": {},
   "source": [
    "# Inspecting the stack inside the notebook\n",
    "\n",
    "You can also make a quick check using\n",
    ">    !sfgrey < {stack} | sfpen"
   ]
  },
  {
   "cell_type": "code",
   "execution_count": null,
   "metadata": {},
   "outputs": [],
   "source": [
    "stack = sf.Input(stack)"
   ]
  },
  {
   "cell_type": "code",
   "execution_count": null,
   "metadata": {},
   "outputs": [],
   "source": [
    "n1 = stack.int('n1')\n",
    "n2 = stack.int('n2')\n",
    "d1 = stack.float('d1')\n",
    "o1 = stack.float('o1')"
   ]
  },
  {
   "cell_type": "code",
   "execution_count": null,
   "metadata": {},
   "outputs": [],
   "source": [
    "data = np.zeros((n2, n1), dtype=np.float32)\n",
    "stack.read(data)"
   ]
  },
  {
   "cell_type": "code",
   "execution_count": null,
   "metadata": {},
   "outputs": [],
   "source": [
    "perc = np.percentile(data.ravel(), 99)\n",
    "t = np.arange(n1) * d1 + o1\n",
    "extent = [0, n2, t[-1], o1]\n",
    "plt.figure(figsize=(8, 5))\n",
    "img = plt.imshow(data.clip(-perc, perc).T, aspect='auto',\n",
    "                 extent=extent, cmap='gray_r')\n",
    "\n",
    "\n",
    "plt.ylabel('t (s)')\n",
    "plt.xlabel('cdp')\n",
    "\n",
    "plt.title('CSV of 1.5 km/s')\n",
    "\n",
    "sns.despine()\n",
    "plt.colorbar(img, shrink=0.7, label='Amplitude', pad=0.07)\n",
    "\n",
    "plt.tight_layout()"
   ]
  },
  {
   "cell_type": "code",
   "execution_count": null,
   "metadata": {},
   "outputs": [],
   "source": [
    "perc = np.percentile(data.ravel(), 99)\n",
    "t = np.arange(n1) * d1 + o1\n",
    "extent = [0, n2, t[-1], o1]\n",
    "plt.figure(figsize=(8, 5))\n",
    "img = plt.imshow(data.clip(-perc, perc).T, aspect='auto',\n",
    "                 extent=extent, cmap='gray_r')\n",
    "\n",
    "\n",
    "plt.ylabel('t (s)')\n",
    "plt.xlabel('cdp')\n",
    "\n",
    "plt.ylim(2,0)\n",
    "\n",
    "plt.title('Sea bottom, first multiple detail and coherent noise detail')\n",
    "\n",
    "sns.despine()\n",
    "plt.colorbar(img, shrink=0.7, label='Amplitude', pad=0.07)\n",
    "\n",
    "plt.tight_layout()"
   ]
  },
  {
   "cell_type": "markdown",
   "metadata": {},
   "source": [
    "The sea bottom is very clear in the image above, but we still have too much coherent noise. Also, all other velocities are wrong, so deeper events are being destroyed by the stacking."
   ]
  },
  {
   "cell_type": "markdown",
   "metadata": {},
   "source": [
    "## Checking for shot delays"
   ]
  },
  {
   "cell_type": "code",
   "execution_count": null,
   "metadata": {},
   "outputs": [],
   "source": [
    "!echo {common_shot}"
   ]
  },
  {
   "cell_type": "code",
   "execution_count": null,
   "metadata": {},
   "outputs": [],
   "source": [
    "offset_mask = 'line_offset_mask.rsf'\n",
    "\n",
    "!sfheadermath output='offset'  < {header_complete} | sfmask min=-262 > {offset_mask}\n",
    "\n",
    "first_traces = 'first_channel.rsf'\n",
    "\n",
    "!sfheaderwindow mask={offset_mask} < {common_shot} >  {first_traces}"
   ]
  },
  {
   "cell_type": "code",
   "execution_count": null,
   "metadata": {},
   "outputs": [],
   "source": [
    "stack = sf.Input(first_traces)\n",
    "\n",
    "n1 = stack.int('n1')\n",
    "n2 = stack.int('n2')\n",
    "d1 = stack.float('d1')\n",
    "o1 = stack.float('o1')\n",
    "\n",
    "data = np.zeros((n2, n1), dtype=np.float32)\n",
    "stack.read(data)"
   ]
  },
  {
   "cell_type": "code",
   "execution_count": null,
   "metadata": {},
   "outputs": [],
   "source": [
    "perc = np.percentile(data.ravel(), 99)\n",
    "t = np.arange(n1) * d1 + o1\n",
    "extent = [0, n2, t[-1], o1]\n",
    "plt.figure(figsize=(8, 5))\n",
    "img = plt.imshow(data.clip(-perc, perc).T, aspect='auto',\n",
    "                 extent=extent, cmap='gray_r')\n",
    "\n",
    "\n",
    "plt.ylabel('t (s)')\n",
    "plt.xlabel('sequential shotpoint')\n",
    "\n",
    "plt.ylim(2,0)\n",
    "\n",
    "plt.title('First channel common offset panel')\n",
    "\n",
    "sns.despine()\n",
    "plt.colorbar(img, shrink=0.7, label='Amplitude')\n",
    "\n",
    "plt.tight_layout()"
   ]
  },
  {
   "cell_type": "markdown",
   "metadata": {},
   "source": [
    "## First rough velan\n",
    "\n",
    "Now lets try to make a first brute stack with a very rough velocity function. We also could try to use the wells here, but I think it would be more useful to use them a bit later."
   ]
  },
  {
   "cell_type": "code",
   "execution_count": null,
   "metadata": {},
   "outputs": [],
   "source": [
    "# CDP window\n",
    "start = 1502 - 5\n",
    "lenght = 10\n",
    "\n",
    "cdp_sample = 'raw_cdp_sample.rsf'\n",
    "offset_sample = 'offset_cdp_sample.rsf'\n",
    "mask_sample = 'mask_cdp_sample.rsf'\n",
    "\n",
    "# !sfagc < {raw_cdp} | sfvscan offset={offsets} mask={mask} half=n \\\n",
    "#     semblance=y v0={v0} nv={nv} dv={dv} nb=10 > {semblance}"
   ]
  },
  {
   "cell_type": "code",
   "execution_count": null,
   "metadata": {},
   "outputs": [],
   "source": [
    "!sfwindow < {raw_cdp} f3={start} n3={lenght} > {cdp_sample}"
   ]
  },
  {
   "cell_type": "code",
   "execution_count": null,
   "metadata": {},
   "outputs": [],
   "source": [
    "!sfwindow < {offsets} f3={start} n3={lenght} > {offset_sample}"
   ]
  },
  {
   "cell_type": "code",
   "execution_count": null,
   "metadata": {},
   "outputs": [],
   "source": [
    "!sfwindow < {mask} f3={start} n3={lenght} > {mask_sample}"
   ]
  },
  {
   "cell_type": "code",
   "execution_count": null,
   "metadata": {},
   "outputs": [],
   "source": [
    "v0=1.3\n",
    "dv=0.025\n",
    "nv=90\n",
    "\n",
    "semblance = 'first_semblance.rsf'\n",
    "\n",
    "!sfagc < {cdp_sample} tpow=2 | sfvscan offset={offset_sample} mask={mask_sample} half=n \\\n",
    "     semblance=y v0={v0} nv={nv} dv={dv} nb=5  | sfstack axis=3 > {semblance}"
   ]
  },
  {
   "cell_type": "code",
   "execution_count": null,
   "metadata": {},
   "outputs": [],
   "source": [
    "img = sf.Input(semblance)\n",
    "\n",
    "n1 = img.int('n1')\n",
    "n2 = img.int('n2')\n",
    "d1 = img.float('d1')\n",
    "o1 = img.float('o1')\n",
    "d2 = img.float('d2')\n",
    "o2 = img.float('o2')\n",
    "\n",
    "data = np.zeros((n2, n1), dtype=np.float32)\n",
    "img.read(data)"
   ]
  },
  {
   "cell_type": "code",
   "execution_count": null,
   "metadata": {},
   "outputs": [],
   "source": [
    "# Importing Well 5 RMS profile\n",
    "rms = pd.read_csv('well_5_rms_profile.txt')\n",
    "rms.head()"
   ]
  },
  {
   "cell_type": "code",
   "execution_count": null,
   "metadata": {},
   "outputs": [],
   "source": [
    "picks = pd.read_csv('../data/raw/first_velan_picks.csv')\n",
    "picks"
   ]
  },
  {
   "cell_type": "code",
   "execution_count": null,
   "metadata": {},
   "outputs": [],
   "source": [
    "t = np.arange(n1)*d1 + o1\n",
    "x = np.arange(n2)*d2 + o2\n",
    "extent=[x[0], x[-1], t[-1], t[0]]\n",
    "\n",
    "x, t = np.meshgrid(x,t)\n",
    "\n",
    "plt.figure(figsize=(3.5,5))\n",
    "img = plt.imshow(data.T, aspect='auto', cmap='cubehelix', extent=extent)\n",
    "#plt.contour(x, t, data.T, 3, colors='k', linewidths=1)\n",
    "plt.plot(picks.VSTK, picks.TWT, color='white')\n",
    "plt.plot(rms.VRMS/1000., rms.TWT, ls='--')\n",
    "sns.despine()\n",
    "plt.axis('tight')\n",
    "plt.colorbar(img, label='semblance')\n",
    "\n",
    "plt.tight_layout()"
   ]
  },
  {
   "cell_type": "code",
   "execution_count": null,
   "metadata": {},
   "outputs": [],
   "source": [
    "from scipy.interpolate import interp1d"
   ]
  },
  {
   "cell_type": "code",
   "execution_count": null,
   "metadata": {},
   "outputs": [],
   "source": [
    "ncdp = 2142\n",
    "\n",
    "vstk = interp1d(picks.TWT, picks.VSTK)\n",
    "t = np.arange(n1)*d1 + o1\n",
    "vstk = vstk(t)\n",
    "vstk = np.tile(vstk, ncdp).reshape(ncdp, -1)\n",
    "\n",
    "out = sf.Output('first_stacking_velocity.rsf')\n",
    "out.put('n1', n1)\n",
    "out.put('n2', ncdp)\n",
    "out.put('d1', d1)\n",
    "out.put('o1', o1)\n",
    "\n",
    "out.write(vstk)\n",
    "out.close()\n",
    "\n",
    "vstk = 'first_stacking_velocity.rsf'"
   ]
  },
  {
   "cell_type": "code",
   "execution_count": null,
   "metadata": {},
   "outputs": [],
   "source": [
    "brute_stack = 'brute_stack.rsf'\n",
    "\n",
    "!sfpow tpow=2 < {raw_cdp} | \\\n",
    "    sfnmo velocity={vstk} offset={offsets} mask={mask} half=n | \\\n",
    "    sfstack  | sfagc > {brute_stack}"
   ]
  },
  {
   "cell_type": "code",
   "execution_count": null,
   "metadata": {},
   "outputs": [],
   "source": [
    "img = sf.Input(brute_stack)\n",
    "\n",
    "n1 = img.int('n1')\n",
    "n2 = img.int('n2')\n",
    "d1 = img.float('d1')\n",
    "o1 = img.float('o1')\n",
    "d2 = img.float('d2')\n",
    "o2 = img.float('o2')\n",
    "\n",
    "data = np.zeros((n2, n1), dtype=np.float32)\n",
    "img.read(data)"
   ]
  },
  {
   "cell_type": "code",
   "execution_count": null,
   "metadata": {},
   "outputs": [],
   "source": [
    "perc = np.percentile(data.ravel(), 99)\n",
    "t = np.arange(n1) * d1 + o1\n",
    "extent = [0, n2, t[-1], o1]\n",
    "plt.figure(figsize=(8, 5))\n",
    "img = plt.imshow(data.clip(-perc, perc).T, aspect='auto',\n",
    "                 extent=extent, cmap='gray_r')\n",
    "\n",
    "plt.ylabel('t (s)')\n",
    "plt.xlabel('sequential shotpoint')\n",
    "\n",
    "plt.ylim(3,0)\n",
    "\n",
    "plt.title('Brute stack w/ single velocity function and AGC')\n",
    "\n",
    "sns.despine()\n",
    "plt.colorbar(img, shrink=0.7, label='Amplitude')\n",
    "\n",
    "plt.tight_layout()"
   ]
  },
  {
   "cell_type": "markdown",
   "metadata": {},
   "source": [
    "# Constant velocity stack panels\n",
    "\n",
    "The final step is to make sure if there are any important events being missed on our brute stack. One way to make that is to create multiple CVS panels and see if any important event pops up, specially below three seconds."
   ]
  },
  {
   "cell_type": "code",
   "execution_count": null,
   "metadata": {},
   "outputs": [],
   "source": [
    "nv=100\n",
    "dv=0.05\n",
    "v0=1.5\n",
    "\n",
    "\n",
    "stack = 'raw_csv_stacks.rsf'\n",
    "\n",
    "# This is only for a optional visual check and this take quite a while to run\n",
    "# that's why this code is commented.\n",
    "\n",
    "# !sfpow pow1=2 < {raw_cdp} | \\\n",
    "#     sfstacks half=n offset={offsets} nv={nv} v0={v0} dv={dv} mask={mask} | \\\n",
    "#     sftransp plane=23 memsize=1300 | \\\n",
    "#     sfput label2=cdp | \\\n",
    "#     sfbyte gainpanel=e > {stack}"
   ]
  },
  {
   "cell_type": "markdown",
   "metadata": {
    "collapsed": true
   },
   "source": [
    "I checked the stacks above, there's no sign of any coherent signal below ~3 s."
   ]
  }
 ],
 "metadata": {
  "kernelspec": {
   "display_name": "Python 3",
   "language": "python",
   "name": "python3"
  },
  "language_info": {
   "codemirror_mode": {
    "name": "ipython",
    "version": 2
   },
   "file_extension": ".py",
   "mimetype": "text/x-python",
   "name": "python",
   "nbconvert_exporter": "python",
   "pygments_lexer": "ipython2",
   "version": "2.7.18"
  }
 },
 "nbformat": 4,
 "nbformat_minor": 2
}
